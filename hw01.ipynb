{
 "cells": [
  {
   "cell_type": "code",
   "execution_count": 3,
   "metadata": {},
   "outputs": [
    {
     "name": "stdout",
     "output_type": "stream",
     "text": [
      "True\n"
     ]
    }
   ],
   "source": [
    "print('Задание 1.')\n",
    "long_phrase = 'Насколько проще было бы писать программы, если бы не заказчики'\n",
    "short_phrase = '640Кб должно хватить для любых задач. Билл Гейтс (по легенде)'\n",
    "print(len(long_phrase) > len(short_phrase))"
   ]
  },
  {
   "cell_type": "code",
   "execution_count": 21,
   "metadata": {},
   "outputs": [
    {
     "name": "stdout",
     "output_type": "stream",
     "text": [
      "Букв \"а\" в тексте: 7\n",
      "Букв \"и\" в тексте: 4\n",
      "Буква \"а\" в тексте встречается чаще чем буква \"и\"\n"
     ]
    }
   ],
   "source": [
    "print('Задание 2.')\n",
    "text = 'Если программист в 9-00 утра на работе, значит, он там и ночевал'\n",
    "a_count = len(text)-len(text.replace('а', ''))\n",
    "i_count = len(text)-len(text.replace('и', ''))\n",
    "print('Букв \"а\" в тексте: {}'.format(a_count))\n",
    "print('Букв \"и\" в тексте: {}'.format(i_count))\n",
    "if(a_count > i_count):\n",
    "    print('Буква \"а\" в тексте встречается чаще чем буква \"и\"')\n",
    "elif(a_count < i_count):\n",
    "    print('Буква \"и\" в тексте встречается чаще чем буква \"а\"')\n",
    "else:\n",
    "    print('Буквы \"а\",\"и\" в тексте встречается одинаковое кол-во раз')\n"
   ]
  },
  {
   "cell_type": "code",
   "execution_count": 29,
   "metadata": {},
   "outputs": [
    {
     "data": {
      "text/plain": [
       "'Объем файла равен 9771.05Mb'"
      ]
     },
     "execution_count": 29,
     "metadata": {},
     "output_type": "execute_result"
    }
   ],
   "source": [
    "print('Задание 3.')\n",
    "'Объем файла равен {:.2f}Mb'.format(10005552222./1024000.)"
   ]
  },
  {
   "cell_type": "code",
   "execution_count": 35,
   "metadata": {},
   "outputs": [
    {
     "data": {
      "text/plain": [
       "0.49999999999999994"
      ]
     },
     "execution_count": 35,
     "metadata": {},
     "output_type": "execute_result"
    }
   ],
   "source": [
    "print('Задание 4.')\n",
    "import math\n",
    "math.sin(math.pi*30/180)"
   ]
  },
  {
   "cell_type": "code",
   "execution_count": 12,
   "metadata": {},
   "outputs": [
    {
     "name": "stdout",
     "output_type": "stream",
     "text": [
      "Задание 5.\n",
      "Float: 0.1+0.2=0.30000000000000004\n",
      "Decimal: 0.1+0.2=0.3\n"
     ]
    }
   ],
   "source": [
    "print('Задание 5.')\n",
    "print('Float: 0.1+0.2={}'.format(0.1+0.2))\n",
    "# потому как по умолчанию используется чистла с плавоющей точнкой\n",
    "# если использовать с фиксированной точкой, то:\n",
    "from decimal import Decimal\n",
    "print('Decimal: 0.1+0.2={}'.format(Decimal('0.1')+Decimal('0.2')))"
   ]
  },
  {
   "cell_type": "code",
   "execution_count": 2,
   "metadata": {},
   "outputs": [
    {
     "name": "stdout",
     "output_type": "stream",
     "text": [
      "Задание 6.\n",
      "a = 5\n",
      "b = 3\n"
     ]
    }
   ],
   "source": [
    "print('Задание 6.')\n",
    "a = 3\n",
    "b = 5\n",
    "a += b\n",
    "b = a - b\n",
    "a -= b\n",
    "print('a = {}'.format(a))\n",
    "print('b = {}'.format(b))"
   ]
  },
  {
   "cell_type": "code",
   "execution_count": 7,
   "metadata": {},
   "outputs": [
    {
     "name": "stdout",
     "output_type": "stream",
     "text": [
      "Задание 7.\n"
     ]
    },
    {
     "data": {
      "text/plain": [
       "19"
      ]
     },
     "execution_count": 7,
     "metadata": {},
     "output_type": "execute_result"
    }
   ],
   "source": [
    "print('Задание 7.')\n",
    "num = '10011'\n",
    "decnum = 0\n",
    "for i in range(0, len(num)):\n",
    "    decnum += int(num[::-1][i])*2**i\n",
    "decnum"
   ]
  },
  {
   "cell_type": "code",
   "execution_count": null,
   "metadata": {},
   "outputs": [],
   "source": []
  }
 ],
 "metadata": {
  "kernelspec": {
   "display_name": "Python 3",
   "language": "python",
   "name": "python3"
  },
  "language_info": {
   "codemirror_mode": {
    "name": "ipython",
    "version": 3
   },
   "file_extension": ".py",
   "mimetype": "text/x-python",
   "name": "python",
   "nbconvert_exporter": "python",
   "pygments_lexer": "ipython3",
   "version": "3.6.5"
  }
 },
 "nbformat": 4,
 "nbformat_minor": 2
}
