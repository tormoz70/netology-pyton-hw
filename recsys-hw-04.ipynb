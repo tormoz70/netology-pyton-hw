{
 "cells": [
  {
   "cell_type": "code",
   "execution_count": 127,
   "metadata": {},
   "outputs": [],
   "source": [
    "import pandas as pd\n",
    "import numpy as np\n",
    "from tqdm import tqdm_notebook\n",
    "import scipy.sparse as sparse\n",
    "%matplotlib inline\n",
    "from implicit.als import AlternatingLeastSquares"
   ]
  },
  {
   "cell_type": "code",
   "execution_count": 128,
   "metadata": {},
   "outputs": [
    {
     "name": "stdout",
     "output_type": "stream",
     "text": [
      " Том в устройстве D не имеет метки.\n",
      " Серийный номер тома: 3EB1-D609\n",
      "\n",
      " Содержимое папки d:\\.m2\\netology\\courses\\course06\\004\\tmpdata\n",
      "\n",
      "16.06.2019  23:50    <DIR>          .\n",
      "16.06.2019  23:50    <DIR>          ..\n",
      "16.06.2019  21:54        13 709 347 bookmarks.dat\n",
      "16.06.2019  21:54         6 904 084 bookmark_tags.dat\n",
      "16.06.2019  21:54             5 365 readme.txt\n",
      "16.06.2019  21:54           922 629 tags.dat\n",
      "16.06.2019  21:40     1 642 981 585 usersha1-artmbid-artname-plays.tsv\n",
      "16.06.2019  21:54           413 448 user_contacts-timestamps.dat\n",
      "16.06.2019  21:54           479 222 user_contacts.dat\n",
      "16.06.2019  21:54        13 716 140 user_taggedbookmarks-timestamps.dat\n",
      "16.06.2019  21:54        15 652 892 user_taggedbookmarks.dat\n",
      "               9 файлов  1 694 784 712 байт\n",
      "               2 папок  145 856 368 640 байт свободно\n"
     ]
    }
   ],
   "source": [
    "!dir tmpdata"
   ]
  },
  {
   "cell_type": "code",
   "execution_count": null,
   "metadata": {},
   "outputs": [],
   "source": []
  },
  {
   "cell_type": "code",
   "execution_count": 129,
   "metadata": {},
   "outputs": [],
   "source": [
    "bookmarks = pd.read_csv('tmpdata/bookmarks.dat', sep='\\t', encoding='ANSI')\n",
    "bookmark_tags = pd.read_csv('tmpdata/bookmark_tags.dat', sep='\\t', encoding='ANSI')\n",
    "tags = pd.read_csv('tmpdata/tags.dat', sep='\\t', encoding='ANSI')\n",
    "user_contacts_timestamps = pd.read_csv('tmpdata/user_contacts-timestamps.dat', sep='\\t', encoding='ANSI')\n",
    "user_taggedbookmarks_timestamps = pd.read_csv('tmpdata/user_taggedbookmarks-timestamps.dat', sep='\\t', encoding='ANSI')"
   ]
  },
  {
   "cell_type": "code",
   "execution_count": 130,
   "metadata": {},
   "outputs": [
    {
     "data": {
      "text/html": [
       "<div>\n",
       "<style scoped>\n",
       "    .dataframe tbody tr th:only-of-type {\n",
       "        vertical-align: middle;\n",
       "    }\n",
       "\n",
       "    .dataframe tbody tr th {\n",
       "        vertical-align: top;\n",
       "    }\n",
       "\n",
       "    .dataframe thead th {\n",
       "        text-align: right;\n",
       "    }\n",
       "</style>\n",
       "<table border=\"1\" class=\"dataframe\">\n",
       "  <thead>\n",
       "    <tr style=\"text-align: right;\">\n",
       "      <th></th>\n",
       "      <th>id</th>\n",
       "      <th>md5</th>\n",
       "      <th>title</th>\n",
       "      <th>url</th>\n",
       "      <th>md5Principal</th>\n",
       "      <th>urlPrincipal</th>\n",
       "    </tr>\n",
       "  </thead>\n",
       "  <tbody>\n",
       "    <tr>\n",
       "      <th>0</th>\n",
       "      <td>1</td>\n",
       "      <td>ab4954b633ddaf5b5bba6e9b71aa6b70</td>\n",
       "      <td>IFLA - The official website of the Internation...</td>\n",
       "      <td>http://www.ifla.org/</td>\n",
       "      <td>7f431306c428457bc4e12b15634484f</td>\n",
       "      <td>www.ifla.org</td>\n",
       "    </tr>\n",
       "    <tr>\n",
       "      <th>1</th>\n",
       "      <td>2</td>\n",
       "      <td>2221e9cd106d269dd34682666f576fa3</td>\n",
       "      <td>gcdp-e.pdf (application/pdf Object)</td>\n",
       "      <td>http://archive.ifla.org/VII/s14/nd1/gcdp-e.pdf</td>\n",
       "      <td>1ef8cfcfe968101fa9b4e301847503d4</td>\n",
       "      <td>archive.ifla.org</td>\n",
       "    </tr>\n",
       "    <tr>\n",
       "      <th>2</th>\n",
       "      <td>7</td>\n",
       "      <td>c97c571dadaddbbb493126a0d4d01ba3</td>\n",
       "      <td>EdSelect</td>\n",
       "      <td>http://www.edselect.com/</td>\n",
       "      <td>792fd7eb20143386d0c4eb193c6124d</td>\n",
       "      <td>www.edselect.com</td>\n",
       "    </tr>\n",
       "    <tr>\n",
       "      <th>3</th>\n",
       "      <td>8</td>\n",
       "      <td>25bfe8dca0ef263ec9c341b9f16c38b5</td>\n",
       "      <td>Cool Canada (Collections Canada)</td>\n",
       "      <td>http://www.collectionscanada.gc.ca/cool/index-...</td>\n",
       "      <td>6fce4f6391516f0732531d9cfacda5b7</td>\n",
       "      <td>www.collectionscanada.gc.ca</td>\n",
       "    </tr>\n",
       "    <tr>\n",
       "      <th>4</th>\n",
       "      <td>9</td>\n",
       "      <td>c97284629e17b8e2861afaacd59918bc</td>\n",
       "      <td>Kidsreads.com</td>\n",
       "      <td>http://www.kidsreads.com/</td>\n",
       "      <td>5854ce8404857a45373eea01a3d98000</td>\n",
       "      <td>www.kidsreads.com</td>\n",
       "    </tr>\n",
       "    <tr>\n",
       "      <th>5</th>\n",
       "      <td>10</td>\n",
       "      <td>5a9bdcf2a5ee18c210cdce663b631340</td>\n",
       "      <td>Kidsreads.com -- GREAT BOOKS FOR BOYS</td>\n",
       "      <td>http://www.kidsreads.com/features/great-books-...</td>\n",
       "      <td>5854ce8404857a45373eea01a3d98000</td>\n",
       "      <td>www.kidsreads.com</td>\n",
       "    </tr>\n",
       "    <tr>\n",
       "      <th>6</th>\n",
       "      <td>11</td>\n",
       "      <td>d49b0ae16c137b452a148488a400924f</td>\n",
       "      <td>Moodle ::|:: SDUSD Educational Technology</td>\n",
       "      <td>http://moodle.sandi.net/</td>\n",
       "      <td>c40a51ae904e35fbf4e5eb2fc15f95c</td>\n",
       "      <td>moodle.sandi.net</td>\n",
       "    </tr>\n",
       "    <tr>\n",
       "      <th>7</th>\n",
       "      <td>14</td>\n",
       "      <td>67e4e670037229c5f36d9450001d3e97</td>\n",
       "      <td>CountryReports.org вЂ” Country Information</td>\n",
       "      <td>http://countryreports.org/</td>\n",
       "      <td>b2afa8146708c6c9957c7e4db29a7814</td>\n",
       "      <td>countryreports.org</td>\n",
       "    </tr>\n",
       "    <tr>\n",
       "      <th>8</th>\n",
       "      <td>15</td>\n",
       "      <td>4e72a2a5f48b1a6d2d1c6e8e3e8eb399</td>\n",
       "      <td>Some of the Best Books, K-12</td>\n",
       "      <td>http://www.kn.att.com/wired/fil/pages/listbest...</td>\n",
       "      <td>fcaf87c40c53c57de95abb9678ca138a</td>\n",
       "      <td>www.kn.att.com</td>\n",
       "    </tr>\n",
       "    <tr>\n",
       "      <th>9</th>\n",
       "      <td>16</td>\n",
       "      <td>2c344d706ad1ebdfe0545a26e483b017</td>\n",
       "      <td>Education World В®: Lesson Plan: Lessons from ...</td>\n",
       "      <td>http://www.educationworld.com/a_lesson/lesson2...</td>\n",
       "      <td>78e74cba021bd118110d7d5347209493</td>\n",
       "      <td>www.educationworld.com</td>\n",
       "    </tr>\n",
       "  </tbody>\n",
       "</table>\n",
       "</div>"
      ],
      "text/plain": [
       "   id                               md5  \\\n",
       "0   1  ab4954b633ddaf5b5bba6e9b71aa6b70   \n",
       "1   2  2221e9cd106d269dd34682666f576fa3   \n",
       "2   7  c97c571dadaddbbb493126a0d4d01ba3   \n",
       "3   8  25bfe8dca0ef263ec9c341b9f16c38b5   \n",
       "4   9  c97284629e17b8e2861afaacd59918bc   \n",
       "5  10  5a9bdcf2a5ee18c210cdce663b631340   \n",
       "6  11  d49b0ae16c137b452a148488a400924f   \n",
       "7  14  67e4e670037229c5f36d9450001d3e97   \n",
       "8  15  4e72a2a5f48b1a6d2d1c6e8e3e8eb399   \n",
       "9  16  2c344d706ad1ebdfe0545a26e483b017   \n",
       "\n",
       "                                               title  \\\n",
       "0  IFLA - The official website of the Internation...   \n",
       "1                gcdp-e.pdf (application/pdf Object)   \n",
       "2                                           EdSelect   \n",
       "3                   Cool Canada (Collections Canada)   \n",
       "4                                      Kidsreads.com   \n",
       "5              Kidsreads.com -- GREAT BOOKS FOR BOYS   \n",
       "6          Moodle ::|:: SDUSD Educational Technology   \n",
       "7         CountryReports.org вЂ” Country Information   \n",
       "8                       Some of the Best Books, K-12   \n",
       "9  Education World В®: Lesson Plan: Lessons from ...   \n",
       "\n",
       "                                                 url  \\\n",
       "0                               http://www.ifla.org/   \n",
       "1     http://archive.ifla.org/VII/s14/nd1/gcdp-e.pdf   \n",
       "2                           http://www.edselect.com/   \n",
       "3  http://www.collectionscanada.gc.ca/cool/index-...   \n",
       "4                          http://www.kidsreads.com/   \n",
       "5  http://www.kidsreads.com/features/great-books-...   \n",
       "6                           http://moodle.sandi.net/   \n",
       "7                         http://countryreports.org/   \n",
       "8  http://www.kn.att.com/wired/fil/pages/listbest...   \n",
       "9  http://www.educationworld.com/a_lesson/lesson2...   \n",
       "\n",
       "                       md5Principal                 urlPrincipal  \n",
       "0   7f431306c428457bc4e12b15634484f                 www.ifla.org  \n",
       "1  1ef8cfcfe968101fa9b4e301847503d4             archive.ifla.org  \n",
       "2   792fd7eb20143386d0c4eb193c6124d             www.edselect.com  \n",
       "3  6fce4f6391516f0732531d9cfacda5b7  www.collectionscanada.gc.ca  \n",
       "4  5854ce8404857a45373eea01a3d98000            www.kidsreads.com  \n",
       "5  5854ce8404857a45373eea01a3d98000            www.kidsreads.com  \n",
       "6   c40a51ae904e35fbf4e5eb2fc15f95c             moodle.sandi.net  \n",
       "7  b2afa8146708c6c9957c7e4db29a7814           countryreports.org  \n",
       "8  fcaf87c40c53c57de95abb9678ca138a               www.kn.att.com  \n",
       "9  78e74cba021bd118110d7d5347209493       www.educationworld.com  "
      ]
     },
     "execution_count": 130,
     "metadata": {},
     "output_type": "execute_result"
    }
   ],
   "source": [
    "bookmarks.head(10)"
   ]
  },
  {
   "cell_type": "code",
   "execution_count": 131,
   "metadata": {},
   "outputs": [
    {
     "data": {
      "text/html": [
       "<div>\n",
       "<style scoped>\n",
       "    .dataframe tbody tr th:only-of-type {\n",
       "        vertical-align: middle;\n",
       "    }\n",
       "\n",
       "    .dataframe tbody tr th {\n",
       "        vertical-align: top;\n",
       "    }\n",
       "\n",
       "    .dataframe thead th {\n",
       "        text-align: right;\n",
       "    }\n",
       "</style>\n",
       "<table border=\"1\" class=\"dataframe\">\n",
       "  <thead>\n",
       "    <tr style=\"text-align: right;\">\n",
       "      <th></th>\n",
       "      <th>bookmarkID</th>\n",
       "      <th>tagID</th>\n",
       "      <th>tagWeight</th>\n",
       "    </tr>\n",
       "  </thead>\n",
       "  <tbody>\n",
       "    <tr>\n",
       "      <th>0</th>\n",
       "      <td>1</td>\n",
       "      <td>2</td>\n",
       "      <td>276</td>\n",
       "    </tr>\n",
       "    <tr>\n",
       "      <th>1</th>\n",
       "      <td>1</td>\n",
       "      <td>206</td>\n",
       "      <td>48</td>\n",
       "    </tr>\n",
       "    <tr>\n",
       "      <th>2</th>\n",
       "      <td>1</td>\n",
       "      <td>208</td>\n",
       "      <td>165</td>\n",
       "    </tr>\n",
       "    <tr>\n",
       "      <th>3</th>\n",
       "      <td>1</td>\n",
       "      <td>272</td>\n",
       "      <td>55</td>\n",
       "    </tr>\n",
       "    <tr>\n",
       "      <th>4</th>\n",
       "      <td>1</td>\n",
       "      <td>459</td>\n",
       "      <td>67</td>\n",
       "    </tr>\n",
       "  </tbody>\n",
       "</table>\n",
       "</div>"
      ],
      "text/plain": [
       "   bookmarkID  tagID  tagWeight\n",
       "0           1      2        276\n",
       "1           1    206         48\n",
       "2           1    208        165\n",
       "3           1    272         55\n",
       "4           1    459         67"
      ]
     },
     "execution_count": 131,
     "metadata": {},
     "output_type": "execute_result"
    }
   ],
   "source": [
    "bookmark_tags.head()"
   ]
  },
  {
   "cell_type": "code",
   "execution_count": 132,
   "metadata": {},
   "outputs": [
    {
     "data": {
      "text/html": [
       "<div>\n",
       "<style scoped>\n",
       "    .dataframe tbody tr th:only-of-type {\n",
       "        vertical-align: middle;\n",
       "    }\n",
       "\n",
       "    .dataframe tbody tr th {\n",
       "        vertical-align: top;\n",
       "    }\n",
       "\n",
       "    .dataframe thead th {\n",
       "        text-align: right;\n",
       "    }\n",
       "</style>\n",
       "<table border=\"1\" class=\"dataframe\">\n",
       "  <thead>\n",
       "    <tr style=\"text-align: right;\">\n",
       "      <th></th>\n",
       "      <th>id</th>\n",
       "      <th>value</th>\n",
       "    </tr>\n",
       "  </thead>\n",
       "  <tbody>\n",
       "    <tr>\n",
       "      <th>0</th>\n",
       "      <td>1</td>\n",
       "      <td>collection_development</td>\n",
       "    </tr>\n",
       "    <tr>\n",
       "      <th>1</th>\n",
       "      <td>2</td>\n",
       "      <td>library</td>\n",
       "    </tr>\n",
       "    <tr>\n",
       "      <th>2</th>\n",
       "      <td>3</td>\n",
       "      <td>collection</td>\n",
       "    </tr>\n",
       "    <tr>\n",
       "      <th>3</th>\n",
       "      <td>4</td>\n",
       "      <td>development</td>\n",
       "    </tr>\n",
       "    <tr>\n",
       "      <th>4</th>\n",
       "      <td>5</td>\n",
       "      <td>lesson_plan</td>\n",
       "    </tr>\n",
       "  </tbody>\n",
       "</table>\n",
       "</div>"
      ],
      "text/plain": [
       "   id                   value\n",
       "0   1  collection_development\n",
       "1   2                 library\n",
       "2   3              collection\n",
       "3   4             development\n",
       "4   5             lesson_plan"
      ]
     },
     "execution_count": 132,
     "metadata": {},
     "output_type": "execute_result"
    }
   ],
   "source": [
    "tags.head()"
   ]
  },
  {
   "cell_type": "code",
   "execution_count": 133,
   "metadata": {},
   "outputs": [
    {
     "data": {
      "text/html": [
       "<div>\n",
       "<style scoped>\n",
       "    .dataframe tbody tr th:only-of-type {\n",
       "        vertical-align: middle;\n",
       "    }\n",
       "\n",
       "    .dataframe tbody tr th {\n",
       "        vertical-align: top;\n",
       "    }\n",
       "\n",
       "    .dataframe thead th {\n",
       "        text-align: right;\n",
       "    }\n",
       "</style>\n",
       "<table border=\"1\" class=\"dataframe\">\n",
       "  <thead>\n",
       "    <tr style=\"text-align: right;\">\n",
       "      <th></th>\n",
       "      <th>userID</th>\n",
       "      <th>contactID</th>\n",
       "      <th>timestamp</th>\n",
       "    </tr>\n",
       "  </thead>\n",
       "  <tbody>\n",
       "    <tr>\n",
       "      <th>0</th>\n",
       "      <td>8</td>\n",
       "      <td>28371</td>\n",
       "      <td>1286151259000</td>\n",
       "    </tr>\n",
       "    <tr>\n",
       "      <th>1</th>\n",
       "      <td>8</td>\n",
       "      <td>40306</td>\n",
       "      <td>1286101989000</td>\n",
       "    </tr>\n",
       "    <tr>\n",
       "      <th>2</th>\n",
       "      <td>8</td>\n",
       "      <td>85279</td>\n",
       "      <td>1285981848000</td>\n",
       "    </tr>\n",
       "    <tr>\n",
       "      <th>3</th>\n",
       "      <td>8</td>\n",
       "      <td>91764</td>\n",
       "      <td>1286225027000</td>\n",
       "    </tr>\n",
       "    <tr>\n",
       "      <th>4</th>\n",
       "      <td>8</td>\n",
       "      <td>97723</td>\n",
       "      <td>1286846913000</td>\n",
       "    </tr>\n",
       "  </tbody>\n",
       "</table>\n",
       "</div>"
      ],
      "text/plain": [
       "   userID  contactID      timestamp\n",
       "0       8      28371  1286151259000\n",
       "1       8      40306  1286101989000\n",
       "2       8      85279  1285981848000\n",
       "3       8      91764  1286225027000\n",
       "4       8      97723  1286846913000"
      ]
     },
     "execution_count": 133,
     "metadata": {},
     "output_type": "execute_result"
    }
   ],
   "source": [
    "user_contacts_timestamps.head()"
   ]
  },
  {
   "cell_type": "code",
   "execution_count": 134,
   "metadata": {},
   "outputs": [
    {
     "data": {
      "text/html": [
       "<div>\n",
       "<style scoped>\n",
       "    .dataframe tbody tr th:only-of-type {\n",
       "        vertical-align: middle;\n",
       "    }\n",
       "\n",
       "    .dataframe tbody tr th {\n",
       "        vertical-align: top;\n",
       "    }\n",
       "\n",
       "    .dataframe thead th {\n",
       "        text-align: right;\n",
       "    }\n",
       "</style>\n",
       "<table border=\"1\" class=\"dataframe\">\n",
       "  <thead>\n",
       "    <tr style=\"text-align: right;\">\n",
       "      <th></th>\n",
       "      <th>userID</th>\n",
       "      <th>bookmarkID</th>\n",
       "      <th>tagID</th>\n",
       "      <th>timestamp</th>\n",
       "    </tr>\n",
       "  </thead>\n",
       "  <tbody>\n",
       "    <tr>\n",
       "      <th>0</th>\n",
       "      <td>8</td>\n",
       "      <td>1</td>\n",
       "      <td>1</td>\n",
       "      <td>1289255362000</td>\n",
       "    </tr>\n",
       "    <tr>\n",
       "      <th>1</th>\n",
       "      <td>8</td>\n",
       "      <td>2</td>\n",
       "      <td>1</td>\n",
       "      <td>1289255159000</td>\n",
       "    </tr>\n",
       "    <tr>\n",
       "      <th>2</th>\n",
       "      <td>8</td>\n",
       "      <td>7</td>\n",
       "      <td>1</td>\n",
       "      <td>1289238901000</td>\n",
       "    </tr>\n",
       "    <tr>\n",
       "      <th>3</th>\n",
       "      <td>8</td>\n",
       "      <td>7</td>\n",
       "      <td>6</td>\n",
       "      <td>1289238901000</td>\n",
       "    </tr>\n",
       "    <tr>\n",
       "      <th>4</th>\n",
       "      <td>8</td>\n",
       "      <td>7</td>\n",
       "      <td>7</td>\n",
       "      <td>1289238901000</td>\n",
       "    </tr>\n",
       "  </tbody>\n",
       "</table>\n",
       "</div>"
      ],
      "text/plain": [
       "   userID  bookmarkID  tagID      timestamp\n",
       "0       8           1      1  1289255362000\n",
       "1       8           2      1  1289255159000\n",
       "2       8           7      1  1289238901000\n",
       "3       8           7      6  1289238901000\n",
       "4       8           7      7  1289238901000"
      ]
     },
     "execution_count": 134,
     "metadata": {},
     "output_type": "execute_result"
    }
   ],
   "source": [
    "user_taggedbookmarks_timestamps.head()"
   ]
  },
  {
   "cell_type": "code",
   "execution_count": 135,
   "metadata": {},
   "outputs": [
    {
     "data": {
      "text/plain": [
       "userID          1867\n",
       "bookmarkID     69223\n",
       "tagID          40897\n",
       "timestamp     104093\n",
       "dtype: int64"
      ]
     },
     "execution_count": 135,
     "metadata": {},
     "output_type": "execute_result"
    }
   ],
   "source": [
    "user_taggedbookmarks_timestamps.nunique()"
   ]
  },
  {
   "cell_type": "code",
   "execution_count": 136,
   "metadata": {},
   "outputs": [],
   "source": [
    "user_taggedbookmarks = user_taggedbookmarks_timestamps.join(bookmarks.set_index('id'), on='bookmarkID').reset_index(drop=True)\n",
    "user_taggedbookmarks.dropna(inplace=True)"
   ]
  },
  {
   "cell_type": "code",
   "execution_count": 137,
   "metadata": {},
   "outputs": [
    {
     "name": "stdout",
     "output_type": "stream",
     "text": [
      "<class 'pandas.core.frame.DataFrame'>\n",
      "Int64Index: 437366 entries, 0 to 437592\n",
      "Data columns (total 9 columns):\n",
      "userID          437366 non-null int64\n",
      "bookmarkID      437366 non-null int64\n",
      "tagID           437366 non-null int64\n",
      "timestamp       437366 non-null int64\n",
      "md5             437366 non-null object\n",
      "title           437366 non-null object\n",
      "url             437366 non-null object\n",
      "md5Principal    437366 non-null object\n",
      "urlPrincipal    437366 non-null object\n",
      "dtypes: int64(4), object(5)\n",
      "memory usage: 33.4+ MB\n"
     ]
    }
   ],
   "source": [
    "user_taggedbookmarks.info()"
   ]
  },
  {
   "cell_type": "code",
   "execution_count": 138,
   "metadata": {},
   "outputs": [
    {
     "data": {
      "text/html": [
       "<div>\n",
       "<style scoped>\n",
       "    .dataframe tbody tr th:only-of-type {\n",
       "        vertical-align: middle;\n",
       "    }\n",
       "\n",
       "    .dataframe tbody tr th {\n",
       "        vertical-align: top;\n",
       "    }\n",
       "\n",
       "    .dataframe thead th {\n",
       "        text-align: right;\n",
       "    }\n",
       "</style>\n",
       "<table border=\"1\" class=\"dataframe\">\n",
       "  <thead>\n",
       "    <tr style=\"text-align: right;\">\n",
       "      <th></th>\n",
       "      <th>userID</th>\n",
       "      <th>bookmarkID</th>\n",
       "      <th>tagID</th>\n",
       "      <th>timestamp</th>\n",
       "      <th>md5</th>\n",
       "      <th>title</th>\n",
       "      <th>url</th>\n",
       "      <th>md5Principal</th>\n",
       "      <th>urlPrincipal</th>\n",
       "    </tr>\n",
       "  </thead>\n",
       "  <tbody>\n",
       "    <tr>\n",
       "      <th>0</th>\n",
       "      <td>8</td>\n",
       "      <td>1</td>\n",
       "      <td>1</td>\n",
       "      <td>1289255362000</td>\n",
       "      <td>ab4954b633ddaf5b5bba6e9b71aa6b70</td>\n",
       "      <td>IFLA - The official website of the Internation...</td>\n",
       "      <td>http://www.ifla.org/</td>\n",
       "      <td>7f431306c428457bc4e12b15634484f</td>\n",
       "      <td>www.ifla.org</td>\n",
       "    </tr>\n",
       "    <tr>\n",
       "      <th>1</th>\n",
       "      <td>8</td>\n",
       "      <td>2</td>\n",
       "      <td>1</td>\n",
       "      <td>1289255159000</td>\n",
       "      <td>2221e9cd106d269dd34682666f576fa3</td>\n",
       "      <td>gcdp-e.pdf (application/pdf Object)</td>\n",
       "      <td>http://archive.ifla.org/VII/s14/nd1/gcdp-e.pdf</td>\n",
       "      <td>1ef8cfcfe968101fa9b4e301847503d4</td>\n",
       "      <td>archive.ifla.org</td>\n",
       "    </tr>\n",
       "    <tr>\n",
       "      <th>2</th>\n",
       "      <td>8</td>\n",
       "      <td>7</td>\n",
       "      <td>1</td>\n",
       "      <td>1289238901000</td>\n",
       "      <td>c97c571dadaddbbb493126a0d4d01ba3</td>\n",
       "      <td>EdSelect</td>\n",
       "      <td>http://www.edselect.com/</td>\n",
       "      <td>792fd7eb20143386d0c4eb193c6124d</td>\n",
       "      <td>www.edselect.com</td>\n",
       "    </tr>\n",
       "    <tr>\n",
       "      <th>3</th>\n",
       "      <td>8</td>\n",
       "      <td>7</td>\n",
       "      <td>6</td>\n",
       "      <td>1289238901000</td>\n",
       "      <td>c97c571dadaddbbb493126a0d4d01ba3</td>\n",
       "      <td>EdSelect</td>\n",
       "      <td>http://www.edselect.com/</td>\n",
       "      <td>792fd7eb20143386d0c4eb193c6124d</td>\n",
       "      <td>www.edselect.com</td>\n",
       "    </tr>\n",
       "    <tr>\n",
       "      <th>4</th>\n",
       "      <td>8</td>\n",
       "      <td>7</td>\n",
       "      <td>7</td>\n",
       "      <td>1289238901000</td>\n",
       "      <td>c97c571dadaddbbb493126a0d4d01ba3</td>\n",
       "      <td>EdSelect</td>\n",
       "      <td>http://www.edselect.com/</td>\n",
       "      <td>792fd7eb20143386d0c4eb193c6124d</td>\n",
       "      <td>www.edselect.com</td>\n",
       "    </tr>\n",
       "  </tbody>\n",
       "</table>\n",
       "</div>"
      ],
      "text/plain": [
       "   userID  bookmarkID  tagID      timestamp                               md5  \\\n",
       "0       8           1      1  1289255362000  ab4954b633ddaf5b5bba6e9b71aa6b70   \n",
       "1       8           2      1  1289255159000  2221e9cd106d269dd34682666f576fa3   \n",
       "2       8           7      1  1289238901000  c97c571dadaddbbb493126a0d4d01ba3   \n",
       "3       8           7      6  1289238901000  c97c571dadaddbbb493126a0d4d01ba3   \n",
       "4       8           7      7  1289238901000  c97c571dadaddbbb493126a0d4d01ba3   \n",
       "\n",
       "                                               title  \\\n",
       "0  IFLA - The official website of the Internation...   \n",
       "1                gcdp-e.pdf (application/pdf Object)   \n",
       "2                                           EdSelect   \n",
       "3                                           EdSelect   \n",
       "4                                           EdSelect   \n",
       "\n",
       "                                              url  \\\n",
       "0                            http://www.ifla.org/   \n",
       "1  http://archive.ifla.org/VII/s14/nd1/gcdp-e.pdf   \n",
       "2                        http://www.edselect.com/   \n",
       "3                        http://www.edselect.com/   \n",
       "4                        http://www.edselect.com/   \n",
       "\n",
       "                       md5Principal      urlPrincipal  \n",
       "0   7f431306c428457bc4e12b15634484f      www.ifla.org  \n",
       "1  1ef8cfcfe968101fa9b4e301847503d4  archive.ifla.org  \n",
       "2   792fd7eb20143386d0c4eb193c6124d  www.edselect.com  \n",
       "3   792fd7eb20143386d0c4eb193c6124d  www.edselect.com  \n",
       "4   792fd7eb20143386d0c4eb193c6124d  www.edselect.com  "
      ]
     },
     "execution_count": 138,
     "metadata": {},
     "output_type": "execute_result"
    }
   ],
   "source": [
    "user_taggedbookmarks.head()"
   ]
  },
  {
   "cell_type": "code",
   "execution_count": 163,
   "metadata": {},
   "outputs": [],
   "source": [
    "#Количество проставленных тегов - будем считать оценкой\n",
    "# готовим данные"
   ]
  },
  {
   "cell_type": "code",
   "execution_count": 164,
   "metadata": {},
   "outputs": [],
   "source": [
    "user_taggedbookmarks = user_taggedbookmarks[['userID', 'bookmarkID']]"
   ]
  },
  {
   "cell_type": "code",
   "execution_count": 165,
   "metadata": {},
   "outputs": [],
   "source": [
    "data = user_taggedbookmarks_timestamps.groupby(['userID', 'bookmarkID']).agg({'tagID': 'count'})"
   ]
  },
  {
   "cell_type": "code",
   "execution_count": 166,
   "metadata": {},
   "outputs": [],
   "source": [
    "data = data.reset_index()"
   ]
  },
  {
   "cell_type": "code",
   "execution_count": 167,
   "metadata": {},
   "outputs": [],
   "source": [
    "data.columns = ['userID','bookmarkID','tags']"
   ]
  },
  {
   "cell_type": "code",
   "execution_count": 168,
   "metadata": {},
   "outputs": [
    {
     "data": {
      "text/plain": [
       "<matplotlib.axes._subplots.AxesSubplot at 0x1f33a003ba8>"
      ]
     },
     "execution_count": 168,
     "metadata": {},
     "output_type": "execute_result"
    },
    {
     "data": {
      "image/png": "[encoded data removed]",
      "text/plain": [
       "<Figure size 432x288 with 1 Axes>"
      ]
     },
     "metadata": {
      "needs_background": "light"
     },
     "output_type": "display_data"
    }
   ],
   "source": [
    "data.tags.hist()"
   ]
  },
  {
   "cell_type": "code",
   "execution_count": 169,
   "metadata": {},
   "outputs": [
    {
     "data": {
      "text/html": [
       "<div>\n",
       "<style scoped>\n",
       "    .dataframe tbody tr th:only-of-type {\n",
       "        vertical-align: middle;\n",
       "    }\n",
       "\n",
       "    .dataframe tbody tr th {\n",
       "        vertical-align: top;\n",
       "    }\n",
       "\n",
       "    .dataframe thead th {\n",
       "        text-align: right;\n",
       "    }\n",
       "</style>\n",
       "<table border=\"1\" class=\"dataframe\">\n",
       "  <thead>\n",
       "    <tr style=\"text-align: right;\">\n",
       "      <th></th>\n",
       "      <th>userID</th>\n",
       "      <th>bookmarkID</th>\n",
       "      <th>tags</th>\n",
       "    </tr>\n",
       "  </thead>\n",
       "  <tbody>\n",
       "    <tr>\n",
       "      <th>0</th>\n",
       "      <td>8</td>\n",
       "      <td>1</td>\n",
       "      <td>1</td>\n",
       "    </tr>\n",
       "    <tr>\n",
       "      <th>1</th>\n",
       "      <td>8</td>\n",
       "      <td>2</td>\n",
       "      <td>1</td>\n",
       "    </tr>\n",
       "    <tr>\n",
       "      <th>2</th>\n",
       "      <td>8</td>\n",
       "      <td>7</td>\n",
       "      <td>3</td>\n",
       "    </tr>\n",
       "    <tr>\n",
       "      <th>3</th>\n",
       "      <td>8</td>\n",
       "      <td>8</td>\n",
       "      <td>3</td>\n",
       "    </tr>\n",
       "    <tr>\n",
       "      <th>4</th>\n",
       "      <td>8</td>\n",
       "      <td>9</td>\n",
       "      <td>2</td>\n",
       "    </tr>\n",
       "  </tbody>\n",
       "</table>\n",
       "</div>"
      ],
      "text/plain": [
       "   userID  bookmarkID  tags\n",
       "0       8           1     1\n",
       "1       8           2     1\n",
       "2       8           7     3\n",
       "3       8           8     3\n",
       "4       8           9     2"
      ]
     },
     "execution_count": 169,
     "metadata": {},
     "output_type": "execute_result"
    }
   ],
   "source": [
    "data[data['userID']==8].head()"
   ]
  },
  {
   "cell_type": "code",
   "execution_count": 170,
   "metadata": {},
   "outputs": [],
   "source": [
    "data1 = data.join(bookmarks[['id', 'title']].set_index('id'), on='bookmarkID').reset_index(drop=True)\n",
    "data1.dropna(inplace=True)\n",
    "data1 = data1.loc[data.tags != 0]"
   ]
  },
  {
   "cell_type": "code",
   "execution_count": 171,
   "metadata": {},
   "outputs": [
    {
     "name": "stdout",
     "output_type": "stream",
     "text": [
      "<class 'pandas.core.frame.DataFrame'>\n",
      "Int64Index: 104732 entries, 0 to 104798\n",
      "Data columns (total 4 columns):\n",
      "userID        104732 non-null int64\n",
      "bookmarkID    104732 non-null int64\n",
      "tags          104732 non-null int64\n",
      "title         104732 non-null object\n",
      "dtypes: int64(3), object(1)\n",
      "memory usage: 4.0+ MB\n"
     ]
    }
   ],
   "source": [
    "data1.info()"
   ]
  },
  {
   "cell_type": "code",
   "execution_count": 173,
   "metadata": {},
   "outputs": [],
   "source": [
    "data1['user_indx'] = data1['userID'].astype(\"category\").cat.codes\n",
    "data1['bookmark_indx'] = data1['title'].astype(\"category\").cat.codes"
   ]
  },
  {
   "cell_type": "code",
   "execution_count": 174,
   "metadata": {},
   "outputs": [
    {
     "data": {
      "text/html": [
       "<div>\n",
       "<style scoped>\n",
       "    .dataframe tbody tr th:only-of-type {\n",
       "        vertical-align: middle;\n",
       "    }\n",
       "\n",
       "    .dataframe tbody tr th {\n",
       "        vertical-align: top;\n",
       "    }\n",
       "\n",
       "    .dataframe thead th {\n",
       "        text-align: right;\n",
       "    }\n",
       "</style>\n",
       "<table border=\"1\" class=\"dataframe\">\n",
       "  <thead>\n",
       "    <tr style=\"text-align: right;\">\n",
       "      <th></th>\n",
       "      <th>userID</th>\n",
       "      <th>bookmarkID</th>\n",
       "      <th>tags</th>\n",
       "      <th>title</th>\n",
       "      <th>user_indx</th>\n",
       "      <th>bookmark_indx</th>\n",
       "    </tr>\n",
       "  </thead>\n",
       "  <tbody>\n",
       "    <tr>\n",
       "      <th>0</th>\n",
       "      <td>8</td>\n",
       "      <td>1</td>\n",
       "      <td>1</td>\n",
       "      <td>IFLA - The official website of the Internation...</td>\n",
       "      <td>0</td>\n",
       "      <td>25533</td>\n",
       "    </tr>\n",
       "    <tr>\n",
       "      <th>1</th>\n",
       "      <td>8</td>\n",
       "      <td>2</td>\n",
       "      <td>1</td>\n",
       "      <td>gcdp-e.pdf (application/pdf Object)</td>\n",
       "      <td>0</td>\n",
       "      <td>60581</td>\n",
       "    </tr>\n",
       "    <tr>\n",
       "      <th>2</th>\n",
       "      <td>8</td>\n",
       "      <td>7</td>\n",
       "      <td>3</td>\n",
       "      <td>EdSelect</td>\n",
       "      <td>0</td>\n",
       "      <td>16402</td>\n",
       "    </tr>\n",
       "    <tr>\n",
       "      <th>3</th>\n",
       "      <td>8</td>\n",
       "      <td>8</td>\n",
       "      <td>3</td>\n",
       "      <td>Cool Canada (Collections Canada)</td>\n",
       "      <td>0</td>\n",
       "      <td>12747</td>\n",
       "    </tr>\n",
       "    <tr>\n",
       "      <th>4</th>\n",
       "      <td>8</td>\n",
       "      <td>9</td>\n",
       "      <td>2</td>\n",
       "      <td>Kidsreads.com</td>\n",
       "      <td>0</td>\n",
       "      <td>28596</td>\n",
       "    </tr>\n",
       "  </tbody>\n",
       "</table>\n",
       "</div>"
      ],
      "text/plain": [
       "   userID  bookmarkID  tags  \\\n",
       "0       8           1     1   \n",
       "1       8           2     1   \n",
       "2       8           7     3   \n",
       "3       8           8     3   \n",
       "4       8           9     2   \n",
       "\n",
       "                                               title  user_indx  bookmark_indx  \n",
       "0  IFLA - The official website of the Internation...          0          25533  \n",
       "1                gcdp-e.pdf (application/pdf Object)          0          60581  \n",
       "2                                           EdSelect          0          16402  \n",
       "3                   Cool Canada (Collections Canada)          0          12747  \n",
       "4                                      Kidsreads.com          0          28596  "
      ]
     },
     "execution_count": 174,
     "metadata": {},
     "output_type": "execute_result"
    }
   ],
   "source": [
    "data1.head()"
   ]
  },
  {
   "cell_type": "code",
   "execution_count": 177,
   "metadata": {},
   "outputs": [],
   "source": [
    "bookmark_lookup = data1[['bookmark_indx', 'title']].drop_duplicates()"
   ]
  },
  {
   "cell_type": "code",
   "execution_count": 178,
   "metadata": {},
   "outputs": [
    {
     "data": {
      "text/html": [
       "<div>\n",
       "<style scoped>\n",
       "    .dataframe tbody tr th:only-of-type {\n",
       "        vertical-align: middle;\n",
       "    }\n",
       "\n",
       "    .dataframe tbody tr th {\n",
       "        vertical-align: top;\n",
       "    }\n",
       "\n",
       "    .dataframe thead th {\n",
       "        text-align: right;\n",
       "    }\n",
       "</style>\n",
       "<table border=\"1\" class=\"dataframe\">\n",
       "  <thead>\n",
       "    <tr style=\"text-align: right;\">\n",
       "      <th></th>\n",
       "      <th>bookmark_indx</th>\n",
       "      <th>title</th>\n",
       "    </tr>\n",
       "  </thead>\n",
       "  <tbody>\n",
       "    <tr>\n",
       "      <th>0</th>\n",
       "      <td>25533</td>\n",
       "      <td>IFLA - The official website of the Internation...</td>\n",
       "    </tr>\n",
       "    <tr>\n",
       "      <th>1</th>\n",
       "      <td>60581</td>\n",
       "      <td>gcdp-e.pdf (application/pdf Object)</td>\n",
       "    </tr>\n",
       "    <tr>\n",
       "      <th>2</th>\n",
       "      <td>16402</td>\n",
       "      <td>EdSelect</td>\n",
       "    </tr>\n",
       "    <tr>\n",
       "      <th>3</th>\n",
       "      <td>12747</td>\n",
       "      <td>Cool Canada (Collections Canada)</td>\n",
       "    </tr>\n",
       "    <tr>\n",
       "      <th>4</th>\n",
       "      <td>28596</td>\n",
       "      <td>Kidsreads.com</td>\n",
       "    </tr>\n",
       "  </tbody>\n",
       "</table>\n",
       "</div>"
      ],
      "text/plain": [
       "   bookmark_indx                                              title\n",
       "0          25533  IFLA - The official website of the Internation...\n",
       "1          60581                gcdp-e.pdf (application/pdf Object)\n",
       "2          16402                                           EdSelect\n",
       "3          12747                   Cool Canada (Collections Canada)\n",
       "4          28596                                      Kidsreads.com"
      ]
     },
     "execution_count": 178,
     "metadata": {},
     "output_type": "execute_result"
    }
   ],
   "source": [
    "bookmark_lookup.head()"
   ]
  },
  {
   "cell_type": "code",
   "execution_count": 179,
   "metadata": {},
   "outputs": [],
   "source": [
    "data1 = data1.drop(['userID', 'bookmarkID', 'title'], axis=1)"
   ]
  },
  {
   "cell_type": "code",
   "execution_count": 190,
   "metadata": {},
   "outputs": [],
   "source": [
    "#Готовим матрицу"
   ]
  },
  {
   "cell_type": "code",
   "execution_count": 191,
   "metadata": {},
   "outputs": [
    {
     "name": "stdout",
     "output_type": "stream",
     "text": [
      "1867 66167\n"
     ]
    }
   ],
   "source": [
    "rows = data1.user_indx.astype(int)\n",
    "cols = data1.bookmark_indx.astype(int)\n",
    "tags = data1.tags.astype(int)\n",
    "usersCount = len(data1.user_indx.unique())\n",
    "bookmarCount = len(data1.bookmark_indx.unique())\n",
    "print(usersCount, bookmarCount)"
   ]
  },
  {
   "cell_type": "code",
   "execution_count": 192,
   "metadata": {},
   "outputs": [
    {
     "name": "stdout",
     "output_type": "stream",
     "text": [
      "104732 104732 104732\n"
     ]
    }
   ],
   "source": [
    "print(len(tags), len(cols), len(rows))"
   ]
  },
  {
   "cell_type": "code",
   "execution_count": 193,
   "metadata": {},
   "outputs": [],
   "source": [
    "data_sparse = sparse.csr_matrix((tags, (cols, rows)), shape=(bookmarCount, usersCount))"
   ]
  },
  {
   "cell_type": "code",
   "execution_count": 194,
   "metadata": {},
   "outputs": [
    {
     "name": "stderr",
     "output_type": "stream",
     "text": [
      "100%|██████████| 15.0/15 [00:00<00:00, 19.03it/s]\n"
     ]
    }
   ],
   "source": [
    "model = AlternatingLeastSquares(factors=50)\n",
    "model.fit(data_sparse)"
   ]
  },
  {
   "cell_type": "code",
   "execution_count": 195,
   "metadata": {},
   "outputs": [],
   "source": [
    "userid = 1\n",
    "\n",
    "user_items = data_sparse.T.tocsr()\n",
    "recommendations = model.recommend(userid, user_items)"
   ]
  },
  {
   "cell_type": "code",
   "execution_count": 196,
   "metadata": {},
   "outputs": [
    {
     "data": {
      "text/plain": [
       "[(53868, 0.042639934),\n",
       " (34486, 0.03790721),\n",
       " (54891, 0.036406737),\n",
       " (59635, 0.035775095),\n",
       " (11581, 0.0337418),\n",
       " (53880, 0.033411004),\n",
       " (52771, 0.03278278),\n",
       " (40900, 0.032214515),\n",
       " (58245, 0.031426027),\n",
       " (5404, 0.03127609)]"
      ]
     },
     "execution_count": 196,
     "metadata": {},
     "output_type": "execute_result"
    }
   ],
   "source": [
    "recommendations"
   ]
  },
  {
   "cell_type": "code",
   "execution_count": 197,
   "metadata": {},
   "outputs": [
    {
     "name": "stdout",
     "output_type": "stream",
     "text": [
      "VoiceThread - Group conversations around images, documents, and videos\n",
      "NetSmartz.org\n",
      "Welcome to CanLit for Kids\n",
      "connection education with how young people use technology\n",
      "Classroom 2.0\n",
      "Voki Home\n",
      "Untitled Document\n",
      "Resources for School Librarians\n",
      "YouTube - Wikis in Plain English\n",
      "AllThingsPLC вЂ” Research, education tools and blog for building a professional learning community\n"
     ]
    }
   ],
   "source": [
    "for r in recommendations:\n",
    "    print(bookmark_lookup[bookmark_lookup['bookmark_indx'] == r[0]]['title'].values[0])"
   ]
  },
  {
   "cell_type": "code",
   "execution_count": 198,
   "metadata": {},
   "outputs": [],
   "source": [
    "itemid = 53868\n",
    "related = model.similar_items(itemid)"
   ]
  },
  {
   "cell_type": "code",
   "execution_count": 199,
   "metadata": {},
   "outputs": [
    {
     "data": {
      "text/plain": [
       "[(53868, 0.5720958),\n",
       " (4280, 0.5492722),\n",
       " (6896, 0.5492721),\n",
       " (10142, 0.5492721),\n",
       " (55113, 0.5492721),\n",
       " (1219, 0.5492721),\n",
       " (44509, 0.5492721),\n",
       " (54553, 0.5492721),\n",
       " (25167, 0.5492721),\n",
       " (58533, 0.5492721)]"
      ]
     },
     "execution_count": 199,
     "metadata": {},
     "output_type": "execute_result"
    }
   ],
   "source": [
    "related"
   ]
  },
  {
   "cell_type": "code",
   "execution_count": 200,
   "metadata": {},
   "outputs": [
    {
     "name": "stdout",
     "output_type": "stream",
     "text": [
      "VoiceThread - Group conversations around images, documents, and videos\n",
      "ALA | AASL Standards for the 21st-Century Learner\n",
      "Astronomy and Space Exploration — FactMonster.com\n",
      "CMMR - Native American Resources\n",
      "Welcome to the Planets\n",
      "16 Free JavaScript Solutions for Displaying Your Images\n",
      "SpaceWeather.com -- News and information about meteor showers, solar flares, auroras, and near-Earth asteroids\n",
      "Web Lab Directory\n",
      "HubbleSite -- Out of the ordinary...out of this world.\n",
      "ZOOM ASTRONOMY - Enchanted Learning Software\n"
     ]
    }
   ],
   "source": [
    "for a in related:\n",
    "    print(bookmark_lookup[bookmark_lookup['bookmark_indx'] == a[0]]['title'].values[0])"
   ]
  },
  {
   "cell_type": "code",
   "execution_count": null,
   "metadata": {},
   "outputs": [],
   "source": []
  },
  {
   "cell_type": "code",
   "execution_count": null,
   "metadata": {},
   "outputs": [],
   "source": []
  }
 ],
 "metadata": {
  "kernelspec": {
   "display_name": "Python 3",
   "language": "python",
   "name": "python3"
  },
  "language_info": {
   "codemirror_mode": {
    "name": "ipython",
    "version": 3
   },
   "file_extension": ".py",
   "mimetype": "text/x-python",
   "name": "python",
   "nbconvert_exporter": "python",
   "pygments_lexer": "ipython3",
   "version": "3.7.3"
  }
 },
 "nbformat": 4,
 "nbformat_minor": 2
}
