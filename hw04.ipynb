{
 "cells": [
  {
   "cell_type": "markdown",
   "metadata": {},
   "source": [
    "## Задание 1"
   ]
  },
  {
   "cell_type": "code",
   "execution_count": null,
   "metadata": {},
   "outputs": [],
   "source": [
    "from datetime import datetime\n",
    "from datetime import timedelta\n",
    "def date_range(start_date, end_date):\n",
    "    result = []\n",
    "    start_date = datetime.strptime(start_date, '%Y-%m-%d')\n",
    "    end_date = datetime.strptime(end_date, '%Y-%m-%d')\n",
    "    while start_date <= end_date:\n",
    "        result.append(start_date)\n",
    "        start_date = start_date+timedelta(days=1)\n",
    "    return result"
   ]
  },
  {
   "cell_type": "code",
   "execution_count": null,
   "metadata": {},
   "outputs": [],
   "source": [
    "dts = date_range('2018-01-01', '2018-01-11')\n",
    "for d in dts:\n",
    "    print(datetime.strftime(d, '%Y-%m-%d'))"
   ]
  },
  {
   "cell_type": "markdown",
   "metadata": {},
   "source": [
    "## Задание 2"
   ]
  },
  {
   "cell_type": "code",
   "execution_count": null,
   "metadata": {},
   "outputs": [],
   "source": [
    "from datetime import datetime\n",
    "from datetime import timedelta\n",
    "import re\n",
    "def date_range(start_date, end_date):\n",
    "    result = []\n",
    "    if(re.search('[12][0-9]{3}-[01][0-9]-[0123][0-9]', start_date) == None):\n",
    "        return []\n",
    "    \n",
    "    if(re.search('[12][0-9]{3}-[01][0-9]-[0123][0-9]', end_date) == None):\n",
    "        return []\n",
    "    \n",
    "    start_date = datetime.strptime(start_date, '%Y-%m-%d')\n",
    "    end_date = datetime.strptime(end_date, '%Y-%m-%d')\n",
    "    if(start_date >= end_date):\n",
    "        return []\n",
    "    \n",
    "    while start_date <= end_date:\n",
    "        result.append(start_date)\n",
    "        start_date = start_date+timedelta(days=1)\n",
    "    return result"
   ]
  },
  {
   "cell_type": "code",
   "execution_count": null,
   "metadata": {},
   "outputs": [],
   "source": [
    "[datetime.strftime(d, '%Y-%m-%d') for d in date_range('2018-01-01', '2018-01-11')]"
   ]
  },
  {
   "cell_type": "code",
   "execution_count": null,
   "metadata": {},
   "outputs": [],
   "source": [
    "[datetime.strftime(d, '%Y-%m-%d') for d in date_range('2018-31-01', '2018-01-11')] #bad month"
   ]
  },
  {
   "cell_type": "code",
   "execution_count": null,
   "metadata": {},
   "outputs": [],
   "source": [
    "[datetime.strftime(d, '%Y-%m-%d') for d in date_range('2018-01-01', '2018-01-51')] #bad day"
   ]
  },
  {
   "cell_type": "code",
   "execution_count": null,
   "metadata": {},
   "outputs": [],
   "source": [
    "[datetime.strftime(d, '%Y-%m-%d') for d in date_range('2018-01-21', '2018-01-11')] #bad period"
   ]
  },
  {
   "cell_type": "code",
   "execution_count": null,
   "metadata": {},
   "outputs": [],
   "source": []
  },
  {
   "cell_type": "markdown",
   "metadata": {},
   "source": [
    "## Задание 3"
   ]
  },
  {
   "cell_type": "code",
   "execution_count": null,
   "metadata": {},
   "outputs": [],
   "source": [
    "stream = ['2018-04-02', '2018-02-29', '2018-19-02']"
   ]
  },
  {
   "cell_type": "code",
   "execution_count": null,
   "metadata": {},
   "outputs": [],
   "source": [
    "from datetime import datetime\n",
    "def checkDate(andate):\n",
    "    try:\n",
    "        tryDate = datetime.strptime(andate, '%Y-%m-%d')\n",
    "    except ValueError:\n",
    "        return False\n",
    "    return True"
   ]
  },
  {
   "cell_type": "code",
   "execution_count": null,
   "metadata": {},
   "outputs": [],
   "source": [
    "list( map(checkDate, stream) )"
   ]
  },
  {
   "cell_type": "markdown",
   "metadata": {},
   "source": [
    "## Задание 4"
   ]
  },
  {
   "cell_type": "code",
   "execution_count": null,
   "metadata": {},
   "outputs": [],
   "source": [
    "from datetime import datetime\n",
    "from dateutil.relativedelta import relativedelta\n",
    "\n",
    "def generateMonth(currentDate):\n",
    "    result = []\n",
    "    if(isinstance(currentDate, datetime)):\n",
    "        start_date = currentDate.replace(hour=0, minute=0, second=0, microsecond=0)\n",
    "        if start_date.day == 1:\n",
    "            end_date = start_date + relativedelta(days=-1)\n",
    "            start_date = start_date + relativedelta(months=-1)\n",
    "        else: \n",
    "            start_date = start_date.replace(day=1)\n",
    "            end_date = currentDate.replace(hour=0, minute=0, second=0, microsecond=0) + relativedelta(days=-1)\n",
    "        while start_date <= end_date:\n",
    "            result.append(start_date)\n",
    "            start_date = start_date + relativedelta(days=1)\n",
    "    return result"
   ]
  },
  {
   "cell_type": "code",
   "execution_count": null,
   "metadata": {},
   "outputs": [],
   "source": [
    "currDate = datetime.strptime('2018-12-03', '%Y-%m-%d') # текущая дата не попадает на первое число\n",
    "dt = [datetime.strftime(d, '%Y-%m-%d') for d in generateMonth(currDate)]\n",
    "dt"
   ]
  },
  {
   "cell_type": "code",
   "execution_count": null,
   "metadata": {},
   "outputs": [],
   "source": [
    "currDate = datetime.strptime('2018-12-01', '%Y-%m-%d') # текущая дата попадает на первое число\n",
    "dt = [datetime.strftime(d, '%Y-%m-%d') for d in generateMonth(currDate)]\n",
    "dt"
   ]
  },
  {
   "cell_type": "markdown",
   "metadata": {},
   "source": [
    "## Задание 5"
   ]
  },
  {
   "cell_type": "code",
   "execution_count": null,
   "metadata": {},
   "outputs": [],
   "source": [
    "from datetime import datetime\n",
    "from dateutil.relativedelta import relativedelta\n",
    "\n",
    "def decodeDate(dateDesc):\n",
    "    curDate = datetime.today().replace(hour=0, minute=0, second=0, microsecond=0)\n",
    "    if dateDesc.strip().lower() == 'today':\n",
    "        return curDate\n",
    "    if dateDesc.strip().lower() == 'last monday':\n",
    "        wday = curDate.weekday()\n",
    "        return curDate + relativedelta(days=(-7 if wday == 0 else -wday))\n",
    "    if dateDesc.strip().lower() == 'last day':\n",
    "        return (curDate + relativedelta(months=1)).replace(day=1) + relativedelta(days=-1)"
   ]
  },
  {
   "cell_type": "code",
   "execution_count": null,
   "metadata": {},
   "outputs": [],
   "source": [
    "print(decodeDate('today'))\n",
    "print(decodeDate('last monday'))\n",
    "print(decodeDate('last day'))"
   ]
  },
  {
   "cell_type": "markdown",
   "metadata": {},
   "source": [
    "## Задание 6"
   ]
  },
  {
   "cell_type": "code",
   "execution_count": null,
   "metadata": {},
   "outputs": [],
   "source": [
    "from datetime import datetime\n",
    "from datetime import timedelta\n",
    "def extractWeeks(start_date, end_date):\n",
    "    result = []\n",
    "    week = []\n",
    "    start_date = datetime.strptime(start_date, '%Y-%m-%d')\n",
    "    end_date = datetime.strptime(end_date, '%Y-%m-%d')\n",
    "    while start_date <= end_date:\n",
    "        wday = start_date.weekday()\n",
    "        week.append(start_date)\n",
    "        if wday == 6:\n",
    "            if len(week) == 7:\n",
    "                result.append(week)\n",
    "            week = []\n",
    "        start_date = start_date+timedelta(days=1)\n",
    "    return result"
   ]
  },
  {
   "cell_type": "code",
   "execution_count": null,
   "metadata": {},
   "outputs": [],
   "source": [
    "d = extractWeeks('2018-12-05', '2018-12-27')\n",
    "d"
   ]
  },
  {
   "cell_type": "code",
   "execution_count": null,
   "metadata": {},
   "outputs": [],
   "source": []
  }
 ],
 "metadata": {
  "kernelspec": {
   "display_name": "Python 3",
   "language": "python",
   "name": "python3"
  },
  "language_info": {
   "codemirror_mode": {
    "name": "ipython",
    "version": 3
   },
   "file_extension": ".py",
   "mimetype": "text/x-python",
   "name": "python",
   "nbconvert_exporter": "python",
   "pygments_lexer": "ipython3",
   "version": "3.7.0"
  }
 },
 "nbformat": 4,
 "nbformat_minor": 2
}
