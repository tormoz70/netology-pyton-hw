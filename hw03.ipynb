{
 "cells": [
  {
   "cell_type": "markdown",
   "metadata": {},
   "source": [
    "Задание 1"
   ]
  },
  {
   "cell_type": "code",
   "execution_count": null,
   "metadata": {},
   "outputs": [],
   "source": [
    "data = [\n",
    "    [13, 25, 23, 34],\n",
    "    [45, 32, 44, 47],\n",
    "    [12, 33, 23, 95],\n",
    "    [13, 53, 34, 35],\n",
    "]"
   ]
  },
  {
   "cell_type": "code",
   "execution_count": null,
   "metadata": {},
   "outputs": [],
   "source": [
    "def sumDiagonal(matrix):\n",
    "    result = 0\n",
    "    matrixSize = len(matrix)\n",
    "    for i in range(0, matrixSize):\n",
    "        if(len(matrix[i]) == matrixSize):\n",
    "            result += matrix[i][i]\n",
    "        else:\n",
    "            raise Exception('Matrix struture is bad')\n",
    "    return result"
   ]
  },
  {
   "cell_type": "code",
   "execution_count": null,
   "metadata": {},
   "outputs": [],
   "source": [
    "s = sumDiagonal(data)\n",
    "print(s)"
   ]
  },
  {
   "cell_type": "markdown",
   "metadata": {},
   "source": [
    "Задание 2"
   ]
  },
  {
   "cell_type": "code",
   "execution_count": null,
   "metadata": {},
   "outputs": [],
   "source": [
    "data = [1, '5', 'abc', 20, '2']"
   ]
  },
  {
   "cell_type": "code",
   "execution_count": null,
   "metadata": {},
   "outputs": [],
   "source": [
    "from decimal import Decimal\n",
    "def sumPwr2(items):\n",
    "    \"\"\"\n",
    "    Вычисляет сумму квадратов элементов коллекции, для тех элементов, которые возможно преобразовать в число\n",
    "    Пример:\n",
    "        sumPwr2([1, '5,1', 'abc', 20, '2.7'])\n",
    "        434.3\n",
    "    \"\"\"\n",
    "    result = 0.0\n",
    "    itemNum = 0.0\n",
    "    for itm in items:\n",
    "        try:\n",
    "            itemNum = float(str(itm).strip(' \"').replace(',', '.'))\n",
    "        except Exception:\n",
    "            pass\n",
    "        else:\n",
    "            result += itemNum**2\n",
    "    return result"
   ]
  },
  {
   "cell_type": "code",
   "execution_count": null,
   "metadata": {},
   "outputs": [],
   "source": [
    "s = sumPwr2(data)\n",
    "s"
   ]
  },
  {
   "cell_type": "markdown",
   "metadata": {},
   "source": [
    "Задание 3"
   ]
  },
  {
   "cell_type": "code",
   "execution_count": 2,
   "metadata": {},
   "outputs": [],
   "source": [
    "import requests\n",
    "def getMaxValute():\n",
    "    \"\"\"\n",
    "        Возвращает название валюты с максимальным значением курса\n",
    "    \"\"\"\n",
    "    r = requests.get('https://www.cbr-xml-daily.ru/daily_json.js')\n",
    "    valutes = r.json()['Valute']\n",
    "    maxValuteKey = list(valutes.keys())[0]\n",
    "    for valuteKey in valutes:\n",
    "        if(valutes[valuteKey]['Value'] > valutes[maxValuteKey]['Value']):\n",
    "            maxValuteKey = valuteKey\n",
    "    return valutes[maxValuteKey]['Name']"
   ]
  },
  {
   "cell_type": "code",
   "execution_count": null,
   "metadata": {},
   "outputs": [],
   "source": [
    "s = getMaxValute()\n",
    "s"
   ]
  },
  {
   "cell_type": "markdown",
   "metadata": {},
   "source": [
    "Задание 4"
   ]
  },
  {
   "cell_type": "code",
   "execution_count": null,
   "metadata": {},
   "outputs": [],
   "source": [
    "import requests\n",
    "class Rate:\n",
    "    def __init__(self, format='value', diff=False):\n",
    "        self.format = format\n",
    "        self.diff = diff\n",
    "    \n",
    "    def exchange_rates(self):\n",
    "        \"\"\"\n",
    "        Возвращает ответ сервиса с информацией о валютах в виде:\n",
    "        \n",
    "        {\n",
    "            'AMD': {\n",
    "                'CharCode': 'AMD',\n",
    "                'ID': 'R01060',\n",
    "                'Name': 'Армянских драмов',\n",
    "                'Nominal': 100,\n",
    "                'NumCode': '051',\n",
    "                'Previous': 14.103,\n",
    "                'Value': 14.0879\n",
    "                },\n",
    "            ...\n",
    "        }\n",
    "        \"\"\"\n",
    "        r = requests.get('https://www.cbr-xml-daily.ru/daily_json.js')\n",
    "        return r.json()['Valute']\n",
    "    \n",
    "    def make_format_inner(self, formatParam, currency):\n",
    "        \"\"\"\n",
    "        Возвращает информацию о валюте currency в трех вариантах:\n",
    "        - полная информация о валюте при self.format = 'full':\n",
    "        Rate('full').make_format('EUR')\n",
    "        {\n",
    "            'CharCode': 'EUR',\n",
    "            'ID': 'R01239',\n",
    "            'Name': 'Евро',\n",
    "            'Nominal': 1,\n",
    "            'NumCode': '978',\n",
    "            'Previous': 79.6765,\n",
    "            'Value': 79.4966\n",
    "        }\n",
    "        \n",
    "        Rate('value').make_format('EUR')\n",
    "        79.4966\n",
    "        Rate('name').make_format('EUR')\n",
    "        Евро\n",
    "        \"\"\"\n",
    "        response = self.exchange_rates()\n",
    "        \n",
    "        if currency in response:\n",
    "            if formatParam == 'full':\n",
    "                return response[currency]\n",
    "            \n",
    "            if formatParam == 'value':\n",
    "                return response[currency]['Value']\n",
    "\n",
    "            if formatParam == 'name':\n",
    "                return response[currency]['Name']\n",
    "\n",
    "            if formatParam == 'diff':\n",
    "                return response[currency]['Value'] - response[currency]['Previous']\n",
    "\n",
    "        return 'Error'\n",
    "\n",
    "    def make_format(self, currency):\n",
    "        return self.make_format_inner(self.format, currency)\n",
    "\n",
    "    def eur(self):\n",
    "        \"\"\"\n",
    "        Возвращает курс евро на сегодня в формате self.format\n",
    "        Если \n",
    "        \"\"\"\n",
    "        if self.format=='value' and self.diff:\n",
    "            return self.make_format_inner('diff', 'EUR')\n",
    "        else:\n",
    "            return self.make_format_inner(self.format, 'EUR')\n",
    "    \n",
    "    def usd(self):\n",
    "        \"\"\"Возвращает курс доллара на сегодня в формате self.format\"\"\"\n",
    "        if self.format == 'value' and self.diff:\n",
    "            return self.make_format_inner('diff', 'USD')\n",
    "        else:\n",
    "            return self.make_format_inner(self.format, 'USD')\n",
    "    "
   ]
  },
  {
   "cell_type": "code",
   "execution_count": null,
   "metadata": {},
   "outputs": [],
   "source": [
    "print(Rate('value').make_format('EUR'), '- значение курса') \n",
    "print(Rate('value', True).make_format('EUR'), '- значение курса') #не влияет на вывод функции, по условию задания\n",
    "print(Rate('value', False).eur(), '- значение курса')\n",
    "print(Rate('value', True).eur(), '- разница значеняе курса - предыдущее значение курса')\n",
    "print(Rate('value', False).usd(), '- значение курса')\n",
    "print(Rate('value', True).usd(), '- разница значеняе курса - предыдущее значение курса')"
   ]
  },
  {
   "cell_type": "markdown",
   "metadata": {},
   "source": [
    "Задание 5"
   ]
  },
  {
   "cell_type": "code",
   "execution_count": null,
   "metadata": {},
   "outputs": [],
   "source": [
    "def sumFibonacci(n):\n",
    "    \"\"\"\n",
    "    возвращает сумму первых n чисел Фибоначчи\n",
    "    Пример:\n",
    "        sumFibonacci(7)\n",
    "        32 \n",
    "    \"\"\"\n",
    "    rslt = 0\n",
    "    i = 0\n",
    "    fprev = 0\n",
    "    fcurr = 1\n",
    "    while i < n-1:\n",
    "        i += 1\n",
    "        fcurr = fcurr + fprev\n",
    "        fprev = fcurr - fprev\n",
    "        rslt += fcurr\n",
    "    return rslt"
   ]
  },
  {
   "cell_type": "code",
   "execution_count": null,
   "metadata": {},
   "outputs": [],
   "source": [
    "print(sumFibonacci(7))"
   ]
  },
  {
   "cell_type": "markdown",
   "metadata": {},
   "source": [
    "Задание 6"
   ]
  },
  {
   "cell_type": "code",
   "execution_count": null,
   "metadata": {},
   "outputs": [],
   "source": [
    "def createTree(attrs):\n",
    "    \"\"\"\n",
    "    Преобразует список в дерево вложенных словарей\n",
    "    Пример:\n",
    "        createTree(['2018-01-01', 'yandex', 'cpc', 100])\n",
    "        {'2018-01-01': {'yandex': {'cpc': 100}}}\n",
    "    \"\"\"\n",
    "    if(len(attrs) < 2):\n",
    "        return attrs[0]\n",
    "    else: \n",
    "        *others, v = attrs\n",
    "        others[-1] = {others[-1] : v}\n",
    "        return createTree(others)"
   ]
  },
  {
   "cell_type": "code",
   "execution_count": null,
   "metadata": {},
   "outputs": [],
   "source": [
    "s = createTree(['2018-01-01', 'yandex', 'cpc', 100])\n",
    "s"
   ]
  },
  {
   "cell_type": "code",
   "execution_count": null,
   "metadata": {},
   "outputs": [],
   "source": []
  }
 ],
 "metadata": {
  "kernelspec": {
   "display_name": "Python 3",
   "language": "python",
   "name": "python3"
  },
  "language_info": {
   "codemirror_mode": {
    "name": "ipython",
    "version": 3
   },
   "file_extension": ".py",
   "mimetype": "text/x-python",
   "name": "python",
   "nbconvert_exporter": "python",
   "pygments_lexer": "ipython3",
   "version": "3.7.0"
  }
 },
 "nbformat": 4,
 "nbformat_minor": 2
}
