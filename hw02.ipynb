{
 "cells": [
  {
   "cell_type": "code",
   "execution_count": 1,
   "metadata": {},
   "outputs": [
    {
     "name": "stdout",
     "output_type": "stream",
     "text": [
      "Задание 1.\n"
     ]
    }
   ],
   "source": [
    "print('Задание 1.') # в задании список не правильно задан.... Ну я поправил так. "
   ]
  },
  {
   "cell_type": "code",
   "execution_count": 4,
   "metadata": {},
   "outputs": [],
   "source": [
    "geo_logs = [\n",
    "\n",
    "{'visit1': ['Москва', 'Россия']},\n",
    "\n",
    "{'visit2': ['Дели', 'Индия']},\n",
    "\n",
    "{'visit3': ['Владимир', 'Россия']},\n",
    "\n",
    "{'visit4': ['Лиссабон', 'Португалия']},\n",
    "\n",
    "{'visit5': ['Париж', 'Франция']},\n",
    "\n",
    "{'visit6': ['Лиссабон', 'Португалия']},\n",
    "\n",
    "{'visit7': ['Тула', 'Россия']},\n",
    "\n",
    "{'visit8': ['Тула', 'Россия']},\n",
    "\n",
    "{'visit9': ['Курск', 'Россия']},\n",
    "\n",
    "{'visit10': ['Архангельск', 'Россия']}\n",
    "\n",
    "]\n"
   ]
  },
  {
   "cell_type": "code",
   "execution_count": 26,
   "metadata": {},
   "outputs": [
    {
     "data": {
      "text/plain": [
       "[{'visit1': ['Москва', 'Россия']},\n",
       " {'visit3': ['Владимир', 'Россия']},\n",
       " {'visit7': ['Тула', 'Россия']},\n",
       " {'visit8': ['Тула', 'Россия']},\n",
       " {'visit9': ['Курск', 'Россия']},\n",
       " {'visit10': ['Архангельск', 'Россия']}]"
      ]
     },
     "execution_count": 26,
     "metadata": {},
     "output_type": "execute_result"
    }
   ],
   "source": [
    "[c for c in geo_logs if 'Россия' in c[list(c.keys())[0]]]"
   ]
  },
  {
   "cell_type": "code",
   "execution_count": 27,
   "metadata": {},
   "outputs": [
    {
     "name": "stdout",
     "output_type": "stream",
     "text": [
      "Задание 2.\n"
     ]
    }
   ],
   "source": [
    "print('Задание 2.')"
   ]
  },
  {
   "cell_type": "code",
   "execution_count": 28,
   "metadata": {},
   "outputs": [],
   "source": [
    "ids = {'user1': [213, 213, 213, 15, 213], 'user2': [54, 54, 119, 119, 119], 'user3': [213, 98, 98, 35]}"
   ]
  },
  {
   "cell_type": "code",
   "execution_count": 36,
   "metadata": {},
   "outputs": [
    {
     "name": "stdout",
     "output_type": "stream",
     "text": [
      "{98, 35, 15, 213, 54, 119}\n"
     ]
    }
   ],
   "source": [
    "rslt = set([])\n",
    "for c in ids.values():\n",
    "    for v in list(c):\n",
    "        rslt.add(v)\n",
    "print(rslt)"
   ]
  },
  {
   "cell_type": "code",
   "execution_count": 57,
   "metadata": {},
   "outputs": [
    {
     "name": "stdout",
     "output_type": "stream",
     "text": [
      "Задание 3.\n"
     ]
    }
   ],
   "source": [
    "print('Задание 3.')"
   ]
  },
  {
   "cell_type": "code",
   "execution_count": 58,
   "metadata": {},
   "outputs": [],
   "source": [
    "queries = [\n",
    "'смотреть сериалы онлайн',\n",
    "'новости спорта',\n",
    "'афиша кино',\n",
    "'курс доллара',\n",
    "'сериалы этим летом',\n",
    "'курс по питону',\n",
    "'сериалы про спорт'\n",
    "]"
   ]
  },
  {
   "cell_type": "code",
   "execution_count": 59,
   "metadata": {},
   "outputs": [
    {
     "name": "stdout",
     "output_type": "stream",
     "text": [
      "Запросов из трех слов 57.1%\n",
      "Запросов из двух слов 42.9%\n"
     ]
    }
   ],
   "source": [
    "wordsStrMap = {1: 'одного слова', 2: 'двух слов', 3: 'трех слов', 4: 'четырех слов', 5: 'пяти слов', 6: 'шести слов'}\n",
    "queriesStat = {}\n",
    "for c in queries:\n",
    "    #print(c.split(' '))    \n",
    "    key = len(c.split(' '))\n",
    "    if key in queriesStat:\n",
    "        queriesStat[key] = queriesStat[key] + 1\n",
    "    else:\n",
    "        queriesStat[key] = 1\n",
    "totalWords = sum(queriesStat.values())\n",
    "for key in queriesStat.keys():\n",
    "    queriesStat[key] = queriesStat[key]/totalWords*100\n",
    "\n",
    "for key in queriesStat.keys():\n",
    "    print('Запросов из {} {:.1f}%'.format(wordsStrMap[key], queriesStat[key]))"
   ]
  },
  {
   "cell_type": "code",
   "execution_count": 60,
   "metadata": {},
   "outputs": [
    {
     "name": "stdout",
     "output_type": "stream",
     "text": [
      "Задание 4.\n"
     ]
    }
   ],
   "source": [
    "print('Задание 4.')"
   ]
  },
  {
   "cell_type": "code",
   "execution_count": 61,
   "metadata": {},
   "outputs": [],
   "source": [
    "stats = {'facebook': 55, 'yandex': 120, 'vk': 115, 'google': 99, 'email': 42, 'ok': 98}"
   ]
  },
  {
   "cell_type": "code",
   "execution_count": 81,
   "metadata": {},
   "outputs": [
    {
     "name": "stdout",
     "output_type": "stream",
     "text": [
      "вариант - 1\n"
     ]
    },
    {
     "data": {
      "text/plain": [
       "'yandex'"
      ]
     },
     "execution_count": 81,
     "metadata": {},
     "output_type": "execute_result"
    }
   ],
   "source": [
    "print('вариант - 1')\n",
    "sorted(stats, key=stats.get, reverse=True)[0]"
   ]
  },
  {
   "cell_type": "code",
   "execution_count": 82,
   "metadata": {},
   "outputs": [
    {
     "name": "stdout",
     "output_type": "stream",
     "text": [
      "вариант - 2\n"
     ]
    },
    {
     "data": {
      "text/plain": [
       "'yandex'"
      ]
     },
     "execution_count": 82,
     "metadata": {},
     "output_type": "execute_result"
    }
   ],
   "source": [
    "print('вариант - 2')\n",
    "maxKey = 'notfound'\n",
    "for key in stats:\n",
    "    if(maxKey == 'notfound' or stats[key] > stats[maxKey]):\n",
    "        maxKey = key\n",
    "maxKey"
   ]
  },
  {
   "cell_type": "code",
   "execution_count": null,
   "metadata": {},
   "outputs": [],
   "source": [
    "print('Задание 5.')"
   ]
  },
  {
   "cell_type": "code",
   "execution_count": 83,
   "metadata": {},
   "outputs": [],
   "source": [
    "stream = [\n",
    "'2018-01-01,user1,3',\n",
    "'2018-01-07,user1,4',\n",
    "'2018-03-29,user1,1',\n",
    "'2018-04-04,user1,13',\n",
    "'2018-01-05,user2,7',\n",
    "'2018-06-14,user3,4',\n",
    "'2018-07-02,user3,10',\n",
    "'2018-03-21,user4,19',\n",
    "'2018-03-22,user4,4',\n",
    "'2018-04-22,user4,8',\n",
    "'2018-05-03,user4,9',\n",
    "'2018-05-11,user4,11',\n",
    "]"
   ]
  },
  {
   "cell_type": "code",
   "execution_count": 89,
   "metadata": {},
   "outputs": [
    {
     "data": {
      "text/plain": [
       "'Среднее значение просмотров(93) на пользователя(4): 23.25'"
      ]
     },
     "execution_count": 89,
     "metadata": {},
     "output_type": "execute_result"
    }
   ],
   "source": [
    "usrs = 0\n",
    "viewCount = 0\n",
    "curUser = 'notdefined'\n",
    "for c in stream:\n",
    "    if(c.split(',')[1] != curUser):\n",
    "        usrs += 1\n",
    "        curUser = c.split(',')[1]\n",
    "    viewCount += int(c.split(',')[2])\n",
    "'Среднее значение просмотров({}) на пользователя({}): {:.2f}'.format(viewCount, usrs, viewCount/usrs)"
   ]
  },
  {
   "cell_type": "code",
   "execution_count": 90,
   "metadata": {},
   "outputs": [
    {
     "name": "stdout",
     "output_type": "stream",
     "text": [
      "Задание 6.\n"
     ]
    }
   ],
   "source": [
    "print('Задание 6.')"
   ]
  },
  {
   "cell_type": "code",
   "execution_count": 2,
   "metadata": {},
   "outputs": [],
   "source": [
    "print('вариант - 1.')\n",
    "stats = [\n",
    "['2018-01-01', 'google', 25],\n",
    "['2018-01-01', 'yandex', 65],\n",
    "['2018-01-01', 'market', 89],\n",
    "['2018-01-02', 'google', 574],\n",
    "['2018-01-02', 'yandex', 249],\n",
    "['2018-01-02', 'market', 994],\n",
    "['2018-01-03', 'google', 1843],\n",
    "['2018-01-03', 'yandex', 1327],\n",
    "['2018-01-03', 'market', 1764],\n",
    "]"
   ]
  },
  {
   "cell_type": "code",
   "execution_count": 17,
   "metadata": {},
   "outputs": [
    {
     "data": {
      "text/plain": [
       "25"
      ]
     },
     "execution_count": 17,
     "metadata": {},
     "output_type": "execute_result"
    }
   ],
   "source": [
    "searchAttrs = ['2018-01-01', 'google']\n",
    "dict([['/'.join(c[0:2]), c[2]] for c in stats])['/'.join(searchAttrs)]"
   ]
  },
  {
   "cell_type": "code",
   "execution_count": 29,
   "metadata": {},
   "outputs": [
    {
     "name": "stdout",
     "output_type": "stream",
     "text": [
      "вариант - 2.\n",
      "['2018-01-01', 'google', 25]\n"
     ]
    }
   ],
   "source": [
    "print('вариант - 2.')\n",
    "searchAttrs = [['2018-01-01', 'google']]\n",
    "searchSet = set(['/'.join(e) for e in searchAttrs])\n",
    "foundIndex = -1;\n",
    "index = 0;\n",
    "for c in stats:\n",
    "    if('/'.join(c[0:len(c)-1]) in searchSet):\n",
    "        foundIndex = index;\n",
    "    index += 1;\n",
    "print(stats[foundIndex])"
   ]
  },
  {
   "cell_type": "code",
   "execution_count": null,
   "metadata": {},
   "outputs": [],
   "source": []
  }
 ],
 "metadata": {
  "kernelspec": {
   "display_name": "Python 3",
   "language": "python",
   "name": "python3"
  },
  "language_info": {
   "codemirror_mode": {
    "name": "ipython",
    "version": 3
   },
   "file_extension": ".py",
   "mimetype": "text/x-python",
   "name": "python",
   "nbconvert_exporter": "python",
   "pygments_lexer": "ipython3",
   "version": "3.6.5"
  }
 },
 "nbformat": 4,
 "nbformat_minor": 2
}
