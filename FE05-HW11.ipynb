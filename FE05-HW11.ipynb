{
 "cells": [
  {
   "cell_type": "code",
   "execution_count": 33,
   "metadata": {},
   "outputs": [],
   "source": [
    "import re\n",
    "import requests\n",
    "import numpy as np\n",
    "import matplotlib.pyplot as plt\n",
    "import seaborn as sns\n",
    "import pandas as pd\n",
    "%matplotlib inline\n",
    "sns.set()"
   ]
  },
  {
   "cell_type": "code",
   "execution_count": 24,
   "metadata": {},
   "outputs": [],
   "source": [
    "with open('tom_1.txt', 'r', encoding='utf-8') as f:\n",
    "    text = f.read().lower()\n",
    "ru_text1 = re.sub('[^а-я ]','', text)"
   ]
  },
  {
   "cell_type": "code",
   "execution_count": 25,
   "metadata": {},
   "outputs": [],
   "source": [
    "with open('tom_2.txt', 'r', encoding='utf-8') as f:\n",
    "    text = f.read().lower()\n",
    "ru_text2 = re.sub('[^а-я ]','', text)"
   ]
  },
  {
   "cell_type": "code",
   "execution_count": 26,
   "metadata": {},
   "outputs": [],
   "source": [
    "with open('tom_3.txt', 'r', encoding='utf-8') as f:\n",
    "    text = f.read().lower()\n",
    "ru_text3 = re.sub('[^а-я ]','', text)"
   ]
  },
  {
   "cell_type": "code",
   "execution_count": 27,
   "metadata": {},
   "outputs": [],
   "source": [
    "with open('tom_4.txt', 'r', encoding='utf-8') as f:\n",
    "    text = f.read().lower()\n",
    "ru_text4 = re.sub('[^а-я ]','', text)"
   ]
  },
  {
   "cell_type": "code",
   "execution_count": 29,
   "metadata": {},
   "outputs": [
    {
     "data": {
      "text/plain": [
       "2763426"
      ]
     },
     "execution_count": 29,
     "metadata": {},
     "output_type": "execute_result"
    }
   ],
   "source": [
    "ru_text = \"\".join([ru_text1, ru_text2, ru_text3, ru_text4])\n",
    "len(ru_text)"
   ]
  },
  {
   "cell_type": "code",
   "execution_count": 57,
   "metadata": {},
   "outputs": [],
   "source": [
    "RUSS = 'абвгджезийклмнопрстуфхцчшщъыьэюя '\n",
    "POS = {l: i for i, l in enumerate(RUSS)}"
   ]
  },
  {
   "cell_type": "code",
   "execution_count": 58,
   "metadata": {},
   "outputs": [],
   "source": [
    "probabilities = np.zeros((len(RUSS), len(RUSS)))"
   ]
  },
  {
   "cell_type": "code",
   "execution_count": 59,
   "metadata": {},
   "outputs": [],
   "source": [
    "for cp, cn in zip(ru_text[:-1], ru_text[1:]):\n",
    "    probabilities[POS[cp], POS[cn]] += 1"
   ]
  },
  {
   "cell_type": "code",
   "execution_count": 60,
   "metadata": {},
   "outputs": [],
   "source": [
    "probabilities = (probabilities / probabilities.sum(axis=1)[:, None])"
   ]
  },
  {
   "cell_type": "code",
   "execution_count": 61,
   "metadata": {},
   "outputs": [],
   "source": [
    "df = pd.DataFrame(probabilities, index=(c for c in RUSS), columns=(c for c in RUSS))"
   ]
  },
  {
   "cell_type": "code",
   "execution_count": 62,
   "metadata": {},
   "outputs": [
    {
     "data": {
      "text/html": [
       "<div>\n",
       "<style scoped>\n",
       "    .dataframe tbody tr th:only-of-type {\n",
       "        vertical-align: middle;\n",
       "    }\n",
       "\n",
       "    .dataframe tbody tr th {\n",
       "        vertical-align: top;\n",
       "    }\n",
       "\n",
       "    .dataframe thead th {\n",
       "        text-align: right;\n",
       "    }\n",
       "</style>\n",
       "<table border=\"1\" class=\"dataframe\">\n",
       "  <thead>\n",
       "    <tr style=\"text-align: right;\">\n",
       "      <th></th>\n",
       "      <th>а</th>\n",
       "      <th>б</th>\n",
       "      <th>в</th>\n",
       "      <th>г</th>\n",
       "      <th>д</th>\n",
       "      <th>ж</th>\n",
       "      <th>е</th>\n",
       "      <th>з</th>\n",
       "      <th>и</th>\n",
       "      <th>й</th>\n",
       "      <th>...</th>\n",
       "      <th>ч</th>\n",
       "      <th>ш</th>\n",
       "      <th>щ</th>\n",
       "      <th>ъ</th>\n",
       "      <th>ы</th>\n",
       "      <th>ь</th>\n",
       "      <th>э</th>\n",
       "      <th>ю</th>\n",
       "      <th>я</th>\n",
       "      <th></th>\n",
       "    </tr>\n",
       "  </thead>\n",
       "  <tbody>\n",
       "    <tr>\n",
       "      <th>а</th>\n",
       "      <td>0.000196</td>\n",
       "      <td>0.008748</td>\n",
       "      <td>0.047077</td>\n",
       "      <td>0.012012</td>\n",
       "      <td>0.027278</td>\n",
       "      <td>0.016752</td>\n",
       "      <td>0.013674</td>\n",
       "      <td>0.056727</td>\n",
       "      <td>0.001858</td>\n",
       "      <td>0.009130</td>\n",
       "      <td>...</td>\n",
       "      <td>0.010690</td>\n",
       "      <td>0.018371</td>\n",
       "      <td>0.003376</td>\n",
       "      <td>0.000000</td>\n",
       "      <td>0.000000</td>\n",
       "      <td>0.000000</td>\n",
       "      <td>0.000042</td>\n",
       "      <td>0.010887</td>\n",
       "      <td>0.034136</td>\n",
       "      <td>0.237949</td>\n",
       "    </tr>\n",
       "    <tr>\n",
       "      <th>б</th>\n",
       "      <td>0.065245</td>\n",
       "      <td>0.000600</td>\n",
       "      <td>0.005402</td>\n",
       "      <td>0.000675</td>\n",
       "      <td>0.001525</td>\n",
       "      <td>0.000475</td>\n",
       "      <td>0.141918</td>\n",
       "      <td>0.000050</td>\n",
       "      <td>0.048690</td>\n",
       "      <td>0.000000</td>\n",
       "      <td>...</td>\n",
       "      <td>0.001375</td>\n",
       "      <td>0.000300</td>\n",
       "      <td>0.013454</td>\n",
       "      <td>0.006777</td>\n",
       "      <td>0.272507</td>\n",
       "      <td>0.002501</td>\n",
       "      <td>0.000025</td>\n",
       "      <td>0.000275</td>\n",
       "      <td>0.029309</td>\n",
       "      <td>0.014904</td>\n",
       "    </tr>\n",
       "    <tr>\n",
       "      <th>в</th>\n",
       "      <td>0.138951</td>\n",
       "      <td>0.000432</td>\n",
       "      <td>0.001043</td>\n",
       "      <td>0.000977</td>\n",
       "      <td>0.007836</td>\n",
       "      <td>0.000028</td>\n",
       "      <td>0.111638</td>\n",
       "      <td>0.012524</td>\n",
       "      <td>0.078979</td>\n",
       "      <td>0.000000</td>\n",
       "      <td>...</td>\n",
       "      <td>0.001015</td>\n",
       "      <td>0.030019</td>\n",
       "      <td>0.000103</td>\n",
       "      <td>0.000338</td>\n",
       "      <td>0.063768</td>\n",
       "      <td>0.004134</td>\n",
       "      <td>0.000009</td>\n",
       "      <td>0.000019</td>\n",
       "      <td>0.005186</td>\n",
       "      <td>0.163295</td>\n",
       "    </tr>\n",
       "    <tr>\n",
       "      <th>г</th>\n",
       "      <td>0.056217</td>\n",
       "      <td>0.000000</td>\n",
       "      <td>0.002363</td>\n",
       "      <td>0.000066</td>\n",
       "      <td>0.062355</td>\n",
       "      <td>0.000066</td>\n",
       "      <td>0.030714</td>\n",
       "      <td>0.000088</td>\n",
       "      <td>0.043013</td>\n",
       "      <td>0.000000</td>\n",
       "      <td>...</td>\n",
       "      <td>0.001634</td>\n",
       "      <td>0.000420</td>\n",
       "      <td>0.000000</td>\n",
       "      <td>0.000000</td>\n",
       "      <td>0.000066</td>\n",
       "      <td>0.000110</td>\n",
       "      <td>0.000000</td>\n",
       "      <td>0.000199</td>\n",
       "      <td>0.000066</td>\n",
       "      <td>0.046744</td>\n",
       "    </tr>\n",
       "    <tr>\n",
       "      <th>д</th>\n",
       "      <td>0.165234</td>\n",
       "      <td>0.001248</td>\n",
       "      <td>0.037191</td>\n",
       "      <td>0.000298</td>\n",
       "      <td>0.001050</td>\n",
       "      <td>0.000539</td>\n",
       "      <td>0.170894</td>\n",
       "      <td>0.000099</td>\n",
       "      <td>0.095730</td>\n",
       "      <td>0.000014</td>\n",
       "      <td>...</td>\n",
       "      <td>0.001248</td>\n",
       "      <td>0.004695</td>\n",
       "      <td>0.000014</td>\n",
       "      <td>0.006553</td>\n",
       "      <td>0.023404</td>\n",
       "      <td>0.015262</td>\n",
       "      <td>0.000028</td>\n",
       "      <td>0.001645</td>\n",
       "      <td>0.016156</td>\n",
       "      <td>0.041844</td>\n",
       "    </tr>\n",
       "  </tbody>\n",
       "</table>\n",
       "<p>5 rows × 33 columns</p>\n",
       "</div>"
      ],
      "text/plain": [
       "          а         б         в         г         д         ж         е  \\\n",
       "а  0.000196  0.008748  0.047077  0.012012  0.027278  0.016752  0.013674   \n",
       "б  0.065245  0.000600  0.005402  0.000675  0.001525  0.000475  0.141918   \n",
       "в  0.138951  0.000432  0.001043  0.000977  0.007836  0.000028  0.111638   \n",
       "г  0.056217  0.000000  0.002363  0.000066  0.062355  0.000066  0.030714   \n",
       "д  0.165234  0.001248  0.037191  0.000298  0.001050  0.000539  0.170894   \n",
       "\n",
       "          з         и         й  ...         ч         ш         щ         ъ  \\\n",
       "а  0.056727  0.001858  0.009130  ...  0.010690  0.018371  0.003376  0.000000   \n",
       "б  0.000050  0.048690  0.000000  ...  0.001375  0.000300  0.013454  0.006777   \n",
       "в  0.012524  0.078979  0.000000  ...  0.001015  0.030019  0.000103  0.000338   \n",
       "г  0.000088  0.043013  0.000000  ...  0.001634  0.000420  0.000000  0.000000   \n",
       "д  0.000099  0.095730  0.000014  ...  0.001248  0.004695  0.000014  0.006553   \n",
       "\n",
       "          ы         ь         э         ю         я            \n",
       "а  0.000000  0.000000  0.000042  0.010887  0.034136  0.237949  \n",
       "б  0.272507  0.002501  0.000025  0.000275  0.029309  0.014904  \n",
       "в  0.063768  0.004134  0.000009  0.000019  0.005186  0.163295  \n",
       "г  0.000066  0.000110  0.000000  0.000199  0.000066  0.046744  \n",
       "д  0.023404  0.015262  0.000028  0.001645  0.016156  0.041844  \n",
       "\n",
       "[5 rows x 33 columns]"
      ]
     },
     "execution_count": 62,
     "metadata": {},
     "output_type": "execute_result"
    }
   ],
   "source": [
    "df.head()"
   ]
  },
  {
   "cell_type": "code",
   "execution_count": 63,
   "metadata": {},
   "outputs": [
    {
     "data": {
      "image/png": "[encoded data removed]",
      "text/plain": [
       "<Figure size 1152x720 with 2 Axes>"
      ]
     },
     "metadata": {
      "needs_background": "light"
     },
     "output_type": "display_data"
    }
   ],
   "source": [
    "plt.figure(figsize=(16,10))\n",
    "sns.heatmap(df)\n",
    "plt.show()"
   ]
  },
  {
   "cell_type": "code",
   "execution_count": 67,
   "metadata": {},
   "outputs": [
    {
     "name": "stdout",
     "output_type": "stream",
     "text": [
      "Вероятность встретить строку из 4-х символов, которая начинается 'п', а кончается на 'р': 0.000978\n"
     ]
    }
   ],
   "source": [
    "startChar = 'п'\n",
    "endChar = 'р'\n",
    "start = POS[startChar]\n",
    "end = POS[endChar]\n",
    "prior = 1. / len(RUSS)\n",
    "result = 0\n",
    "for c1 in RUSS:\n",
    "    for c2 in RUSS:\n",
    "        proba = prior * probabilities[start, POS[c1]] * probabilities[POS[c1], POS[c2]] * probabilities[POS[c2], end]\n",
    "        if proba > 0:\n",
    "            #print(''.join([startChar, c1, c2, endChar]), proba)\n",
    "            result += proba\n",
    "print(\"Вероятность встретить строку из 4-х символов, которая начинается '%s', а кончается на '%s': %f\" % (startChar, endChar, result))"
   ]
  },
  {
   "cell_type": "code",
   "execution_count": 92,
   "metadata": {},
   "outputs": [
    {
     "name": "stdout",
     "output_type": "stream",
     "text": [
      "Слово, начинающееся с буквы 'б' и имеющее длину 8-мь символов: брвайлька\n"
     ]
    }
   ],
   "source": [
    "s = []\n",
    "start = 'б'\n",
    "s.append(start)\n",
    "length = 8\n",
    "i = 0\n",
    "while i < length:\n",
    "    index = POS[s[i]]\n",
    "    next_char = np.random.choice(list(RUSS), p=probabilities[index])\n",
    "    if next_char == ' ':\n",
    "        continue\n",
    "    s.append(next_char)\n",
    "    i += 1\n",
    "print (\"Слово, начинающееся с буквы '%s' и имеющее длину 8-мь символов: %s\" % (start, \"\".join(s)))"
   ]
  },
  {
   "cell_type": "code",
   "execution_count": null,
   "metadata": {},
   "outputs": [],
   "source": []
  },
  {
   "cell_type": "code",
   "execution_count": 93,
   "metadata": {},
   "outputs": [],
   "source": [
    "from hmmlearn.hmm import GaussianHMM"
   ]
  },
  {
   "cell_type": "code",
   "execution_count": 101,
   "metadata": {},
   "outputs": [],
   "source": [
    "df = pd.read_csv(\"numbers-on-unemployment-benefits.csv\")\n",
    "df.columns = ['Month', 'Sum']"
   ]
  },
  {
   "cell_type": "code",
   "execution_count": 102,
   "metadata": {},
   "outputs": [
    {
     "name": "stdout",
     "output_type": "stream",
     "text": [
      "<class 'pandas.core.frame.DataFrame'>\n",
      "RangeIndex: 440 entries, 0 to 439\n",
      "Data columns (total 2 columns):\n",
      "Month    440 non-null object\n",
      "Sum      439 non-null float64\n",
      "dtypes: float64(1), object(1)\n",
      "memory usage: 7.0+ KB\n"
     ]
    }
   ],
   "source": [
    "df.info()"
   ]
  },
  {
   "cell_type": "code",
   "execution_count": 104,
   "metadata": {},
   "outputs": [],
   "source": [
    "df = df.dropna()"
   ]
  },
  {
   "cell_type": "code",
   "execution_count": 105,
   "metadata": {},
   "outputs": [
    {
     "name": "stdout",
     "output_type": "stream",
     "text": [
      "<class 'pandas.core.frame.DataFrame'>\n",
      "Int64Index: 439 entries, 0 to 438\n",
      "Data columns (total 2 columns):\n",
      "Month    439 non-null object\n",
      "Sum      439 non-null float64\n",
      "dtypes: float64(1), object(1)\n",
      "memory usage: 10.3+ KB\n"
     ]
    }
   ],
   "source": [
    "df.info()"
   ]
  },
  {
   "cell_type": "code",
   "execution_count": 106,
   "metadata": {},
   "outputs": [],
   "source": [
    "series = df['Sum']\n",
    "values = series.values.reshape(-1,1)"
   ]
  },
  {
   "cell_type": "code",
   "execution_count": 107,
   "metadata": {},
   "outputs": [
    {
     "name": "stdout",
     "output_type": "stream",
     "text": [
      "1 -6052.087693811389\n",
      "2 -5328.153028537578\n",
      "3 -5192.68701928941\n",
      "4 -5130.695412154094\n",
      "5 -5070.071719670091\n",
      "6 -4940.746091508954\n",
      "7 -4914.212273395137\n",
      "8 -4876.090730994438\n",
      "9 -4850.61113580165\n",
      "10 -4831.9292505289695\n",
      "11 -4778.548820159966\n",
      "12 -4761.895883125582\n",
      "13 -4756.375478264517\n"
     ]
    }
   ],
   "source": [
    "for n in range(1, 14):\n",
    "    model = GaussianHMM(n_components=n,\n",
    "                        covariance_type=\"diag\",\n",
    "                        n_iter=1000)\n",
    "    model.fit(values)\n",
    "    print (n, model.score(values))"
   ]
  },
  {
   "cell_type": "code",
   "execution_count": 108,
   "metadata": {},
   "outputs": [
    {
     "data": {
      "text/plain": [
       "[<matplotlib.lines.Line2D at 0x1f6967612b0>]"
      ]
     },
     "execution_count": 108,
     "metadata": {},
     "output_type": "execute_result"
    },
    {
     "data": {
      "image/png": "[encoded data removed]",
      "text/plain": [
       "<Figure size 864x432 with 1 Axes>"
      ]
     },
     "metadata": {
      "needs_background": "light"
     },
     "output_type": "display_data"
    }
   ],
   "source": [
    "model = GaussianHMM(n_components=10,\n",
    "                        covariance_type=\"diag\",\n",
    "                        n_iter=1000)\n",
    "model.fit(values)\n",
    "labels = model.predict(values)\n",
    "means = np.zeros_like(values)\n",
    "for i in range(model.n_components):\n",
    "    means[labels == i] = model.means_[i]\n",
    "    \n",
    "plt.figure(figsize=(12, 6))\n",
    "plt.plot(values)\n",
    "plt.plot(means, linewidth=3)"
   ]
  },
  {
   "cell_type": "code",
   "execution_count": 109,
   "metadata": {},
   "outputs": [],
   "source": [
    "cur_value = labels[-1]\n",
    "preds = []\n",
    "for _ in range(10):\n",
    "    cur_value = np.random.choice(10, p=model.transmat_[cur_value])\n",
    "    preds.append(model.means_[cur_value])"
   ]
  },
  {
   "cell_type": "code",
   "execution_count": 110,
   "metadata": {},
   "outputs": [],
   "source": [
    "new_series = np.concatenate((values, np.array(preds)))"
   ]
  },
  {
   "cell_type": "code",
   "execution_count": 111,
   "metadata": {},
   "outputs": [
    {
     "data": {
      "image/png": "[encoded data removed]",
      "text/plain": [
       "<Figure size 1152x864 with 1 Axes>"
      ]
     },
     "metadata": {
      "needs_background": "light"
     },
     "output_type": "display_data"
    }
   ],
   "source": [
    "plt.figure(figsize=(16,12))\n",
    "plt.plot(new_series[-100:])\n",
    "plt.plot(values[-90:])\n",
    "plt.show()"
   ]
  },
  {
   "cell_type": "code",
   "execution_count": 112,
   "metadata": {},
   "outputs": [],
   "source": [
    "cur_value = labels[-11]\n",
    "preds = []\n",
    "for _ in range(10):\n",
    "    cur_value = np.random.choice(10, p=model.transmat_[cur_value])\n",
    "    preds.append(model.means_[cur_value])"
   ]
  },
  {
   "cell_type": "code",
   "execution_count": 113,
   "metadata": {},
   "outputs": [
    {
     "data": {
      "image/png": "[encoded data removed]",
      "text/plain": [
       "<Figure size 432x288 with 1 Axes>"
      ]
     },
     "metadata": {
      "needs_background": "light"
     },
     "output_type": "display_data"
    }
   ],
   "source": [
    "plt.plot(preds, 'r-')\n",
    "plt.plot(values[-10:])\n",
    "plt.show()"
   ]
  },
  {
   "cell_type": "code",
   "execution_count": null,
   "metadata": {},
   "outputs": [],
   "source": []
  }
 ],
 "metadata": {
  "kernelspec": {
   "display_name": "Python 3",
   "language": "python",
   "name": "python3"
  },
  "language_info": {
   "codemirror_mode": {
    "name": "ipython",
    "version": 3
   },
   "file_extension": ".py",
   "mimetype": "text/x-python",
   "name": "python",
   "nbconvert_exporter": "python",
   "pygments_lexer": "ipython3",
   "version": "3.7.3"
  }
 },
 "nbformat": 4,
 "nbformat_minor": 2
}
